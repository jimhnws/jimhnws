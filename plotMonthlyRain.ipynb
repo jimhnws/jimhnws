{
 "cells": [
  {
   "cell_type": "code",
   "execution_count": 1,
   "id": "a7e04aa7",
   "metadata": {},
   "outputs": [],
   "source": [
    "import pandas as pd\n",
    "import matplotlib.pyplot as plot\n",
    "import matplotlib.colors as mcolors\n",
    "import numpy as np\n",
    "import numpy as np\n",
    "from scipy.interpolate import make_interp_spline\n",
    "import calcTimeNow\n",
    "import month_Days"
   ]
  },
  {
   "cell_type": "code",
   "execution_count": 1,
   "id": "c763768f",
   "metadata": {},
   "outputs": [
    {
     "ename": "NameError",
     "evalue": "name 'calcTimeNow' is not defined",
     "output_type": "error",
     "traceback": [
      "\u001b[0;31m---------------------------------------------------------------------------\u001b[0m",
      "\u001b[0;31mNameError\u001b[0m                                 Traceback (most recent call last)",
      "Cell \u001b[0;32mIn[1], line 10\u001b[0m\n\u001b[1;32m      6\u001b[0m sta \u001b[38;5;241m=\u001b[39m [\u001b[38;5;124m'\u001b[39m\u001b[38;5;124mTempest\u001b[39m\u001b[38;5;124m'\u001b[39m, \u001b[38;5;124m'\u001b[39m\u001b[38;5;124mDavis\u001b[39m\u001b[38;5;124m'\u001b[39m]\n\u001b[1;32m      8\u001b[0m \u001b[38;5;28;01mfor\u001b[39;00m qwe \u001b[38;5;129;01min\u001b[39;00m sta:\n\u001b[0;32m---> 10\u001b[0m     xr \u001b[38;5;241m=\u001b[39m \u001b[43mcalcTimeNow\u001b[49m\u001b[38;5;241m.\u001b[39mcalcTimeNow()\n\u001b[1;32m     11\u001b[0m     month_name \u001b[38;5;241m=\u001b[39m calcTimeNow\u001b[38;5;241m.\u001b[39mcalcMonthNow()\n\u001b[1;32m     12\u001b[0m     year, date \u001b[38;5;241m=\u001b[39m xr[\u001b[38;5;241m2\u001b[39m],xr[\u001b[38;5;241m3\u001b[39m]\n",
      "\u001b[0;31mNameError\u001b[0m: name 'calcTimeNow' is not defined"
     ]
    }
   ],
   "source": [
    "# Determine the date\n",
    "\n",
    "path = '/home/ec2-user/'\n",
    "path1 = '/var/www/html/000/'\n",
    "\n",
    "sta = ['Tempest', 'Davis']\n",
    "\n",
    "for qwe in sta:\n",
    "\n",
    "    xr = calcTimeNow.calcTimeNow()\n",
    "    month_name = calcTimeNow.calcMonthNow()\n",
    "    year, date = xr[2],xr[3]\n",
    "    year = int(year)\n",
    "    date =  int(date)\n",
    "    date = date - 1\n",
    "    \n",
    "    # figure out the month number\n",
    "    months = ['January','February', 'March','April','May','June','July','August','September','October','November','December']\n",
    "\n",
    "    if (year % 400 == 0):\n",
    "        leap_year = True\n",
    "    elif (year % 100 == 0):\n",
    "        leap_year = False\n",
    "    elif (year % 4 == 0):\n",
    "        leap_year = True\n",
    "    else:\n",
    "        leap_year = False\n",
    "\n",
    "    month31 = ['January','March', 'May', 'July', 'August', 'October', 'December']\n",
    "    month30 = ['April', 'June', 'September', 'November']\n",
    "    month28 = ['February']\n",
    " \n",
    "    if month_name in month31:\n",
    "        r = 31\n",
    "    elif month_name in month30:\n",
    "        r = 30 \n",
    "    elif month_name in month28:\n",
    "        if leap_year:\n",
    "            r = 29\n",
    "        else:\n",
    "            r = 28\n",
    "    else:\n",
    "        r = 31           \n",
    "        \n",
    "        \n",
    "    print(date,r)    \n",
    "    \n",
    "    wxdata = f'{path}{month_name}_{year}_{qwe}.xlsx'\n",
    "    df = pd.read_excel(wxdata, skiprows=[0,1])\n",
    "        \n",
    "    if qwe == 'Tempest':\n",
    "        df = df.drop(df.columns[[1,2,3,4,5,8,9]], axis=1)\n",
    "        df = df.drop(df.index[date:r+1]) \n",
    "        df['Date'] = df['Date'].astype(int)\n",
    "        df.plot(kind=\"bar\", x = \"Date\", rot = 0, width = 0.9, color={\"totR\": \"green\", \"corR\": \"red\"} )\n",
    "    else:\n",
    "        df = df.drop(df.columns[[1,2,3,4,5,7,8,9,10,11,12,13,14]], axis=1)\n",
    "        df = df.drop(df.index[date:r+1])\n",
    "        df['Date'] = df['Date'].astype(int)\n",
    "        df.plot(kind=\"bar\", x = \"Date\", rot = 0, width = 0.9, color={\"Rainfall\": \"green\"} )\n",
    "        \n",
    "    \n",
    "    plot.tick_params(axis='x', colors='black', direction='out', length=4, width=1)\n",
    "    plot.locator_params(axis='x', nbins= r)\n",
    "    plot.figsize = (10,6)\n",
    "    plot.ylim(0, 3)\n",
    "    plot.grid(axis = \"y\", linewidth = 1.0, color = 'black')\n",
    "    plot.xticks(fontsize=8)\n",
    "    plot.xlabel('Date', fontsize=12, fontweight ='bold')\n",
    "    plot.yticks(fontsize=12)\n",
    "    plot.ylabel('Rainfall (inches)', fontsize=12, fontweight ='bold')\n",
    "    plot.title(f'{month_name} {year} Rainfall - {qwe}', fontsize=12, fontweight ='bold')\n",
    "    plot.savefig(f'{path1}rainfall_{qwe}')\n",
    "    "
   ]
  },
  {
   "cell_type": "code",
   "execution_count": null,
   "id": "3120f338",
   "metadata": {},
   "outputs": [],
   "source": []
  }
 ],
 "metadata": {
  "kernelspec": {
   "display_name": "Python 3 (ipykernel)",
   "language": "python",
   "name": "python3"
  },
  "language_info": {
   "codemirror_mode": {
    "name": "ipython",
    "version": 3
   },
   "file_extension": ".py",
   "mimetype": "text/x-python",
   "name": "python",
   "nbconvert_exporter": "python",
   "pygments_lexer": "ipython3",
   "version": "3.10.9"
  }
 },
 "nbformat": 4,
 "nbformat_minor": 5
}
