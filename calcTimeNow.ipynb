{
 "cells": [
  {
   "cell_type": "code",
   "execution_count": 8,
   "metadata": {},
   "outputs": [],
   "source": [
    "import datetime as datetime\n",
    "from datetime import datetime\n",
    "\n",
    "def calcTimeNow():\n",
    "    now = datetime.now()\n",
    "    myMonth = now.strftime(\"%b\")\n",
    "    numMonth = now.strftime(\"%m\")\n",
    "    myYear = now.strftime(\"%Y\")\n",
    "    date = now.strftime(\"%d\")    \n",
    "            \n",
    "    return(now,myMonth,myYear,date,numMonth)\n",
    "\n",
    "def calcMonthNow():\n",
    "    now = datetime.now()\n",
    "    month_name = now.strftime(\"%B\")\n",
    "    \n",
    "    return(month_name)"
   ]
  }
 ],
 "metadata": {
  "kernelspec": {
   "display_name": "Python 3 (ipykernel)",
   "language": "python",
   "name": "python3"
  },
  "language_info": {
   "codemirror_mode": {
    "name": "ipython",
    "version": 3
   },
   "file_extension": ".py",
   "mimetype": "text/x-python",
   "name": "python",
   "nbconvert_exporter": "python",
   "pygments_lexer": "ipython3",
   "version": "3.10.9"
  }
 },
 "nbformat": 4,
 "nbformat_minor": 4
}
