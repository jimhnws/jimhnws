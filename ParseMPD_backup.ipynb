{
 "cells": [
  {
   "cell_type": "code",
   "execution_count": 118,
   "metadata": {},
   "outputs": [],
   "source": [
    "import csv\n",
    "import openpyxl\n",
    "import re\n",
    "import types\n",
    "import time\n",
    "import datetime\n",
    "#from types import NoneType\n",
    "from datetime import datetime\n",
    "from datetime import date\n",
    "from datetime import timezone\n",
    "from datetime import timedelta"
   ]
  },
  {
   "cell_type": "code",
   "execution_count": 130,
   "metadata": {},
   "outputs": [
    {
     "name": "stdout",
     "output_type": "stream",
     "text": [
      "MPD number? XXXX 1083\n",
      "1083\n",
      "/Users/jameshayes/2022_mpd_1083.txt\n"
     ]
    }
   ],
   "source": [
    "##########################\n",
    "# Read in a file\n",
    "##########################\n",
    "\n",
    "file_load = input(\"MPD number? XXXX \")\n",
    "print(file_load)\n",
    "\n",
    "#\n",
    "# Construct a file name from user input\n",
    "#\n",
    "\n",
    "path_to_file = '/Users/jameshayes/'\n",
    "today = date.today()\n",
    "yy = today.strftime(\"%Y\")\n",
    "\n",
    "file_name = f'{path_to_file}{yy}_mpd_{file_load}.txt'\n",
    "print(file_name)"
   ]
  },
  {
   "cell_type": "code",
   "execution_count": 131,
   "metadata": {},
   "outputs": [
    {
     "name": "stdout",
     "output_type": "stream",
     "text": [
      "Mesoscale Precipitation Discussion 1083\n",
      "NWS Weather Prediction Center College Park MD\n",
      "319 PM EDT Tue Oct 11 2022\n",
      "\n",
      "Areas affected...Transverse into the northern Peninsular Ranges of\n",
      "southern CA\n",
      "\n",
      "Concerning...Heavy rainfall...Flash flooding possible\n",
      "\n",
      "Valid 111916Z - 120100Z\n",
      "\n",
      "SUMMARY...Localized flash flooding will be possible over sensitive\n",
      "terrain located in the Transverse and northern Peninsular Ranges\n",
      "of southern CA. Rainfall rates of 0.5 to 1.0 in/hr are expected\n",
      "through 00Z with slow movement of cells but cannot rule out rates\n",
      "just over 1 in/hr.\n",
      "\n",
      "DISCUSSION...GOES West visible satellite imagery showed expanding\n",
      "Cu/Cb along the Transverse/Peninsular Ranges of southern CA with a\n",
      "mature thunderstorm in the San Jacinto Mountains containing\n",
      "MRMS-derived rainfall rates near 1 in/hr as of 1845Z. The presence\n",
      "of a closed upper level low centered just west of the Channel\n",
      "Islands and a broader trough over the west-central U.S. has placed\n",
      "a col in the 850-300 mb mean flow over the Mohave Desert (5-10 kt)\n",
      "but with weaker winds near 10 kt just to the west over the higher\n",
      "terrain. Precipitable water values near 1 inch and the presence of\n",
      "the closed low is supporting impressive lapse rates between\n",
      "850-500 mb of 7.5 to 8.5 C/km over the southwestern U.S. and\n",
      "instability of 500-1000 J/kg over the higher terrain of southern\n",
      "CA. Flow aloft was also diffluent and divergent to the ESE of the\n",
      "upper low centered offshore.\n",
      "\n",
      "As shower/thunderstorm coverage increase with further daytime\n",
      "heating, cell training appears likely in the Transverse Ranges\n",
      "where 700 mb winds match the deeper-layer mean flow from the east.\n",
      "Just to the south across the Peninsular Ranges, somewhat weaker\n",
      "deeper-layer mean flow and upslope easterly winds in the 850-700\n",
      "mb layer may support further development of cells becoming\n",
      "anchored along the terrain, such as what is currently occurring in\n",
      "the San Jacinto Mountains.\n",
      "\n",
      "Rainfall rates with slow moving/training of cells of 0.5 to 1.0\n",
      "in/hr is expected but the potential for rates to locally surpass 1\n",
      "in/hr cannot be ruled out. Any overlap of these higher rainfall\n",
      "rates with burn scars or other areas of sensitive terrain could\n",
      "support localized flash flooding. The onset of nocturnal cooling\n",
      "just prior to sunset should allow for the flash flood threat to\n",
      "diminish after 00Z.\n",
      "\n",
      "Otto\n",
      "\n",
      "ATTN...WFO...LOX...PSR...SGX...VEF...\n",
      "\n",
      "ATTN...RFC...CNRFC...NWC...\n",
      "\n",
      "LAT...LON   34511830 34511792 34471726 34441671 34371653\n",
      "            34241625 34111600 34051585 33951578 33861578\n",
      "            33781583 33761591 33771596 33791603 33821610\n",
      "            33861621 33911628 33901644 33861647 33801646\n",
      "            33731642 33661635 33591628 33501620 33421619\n",
      "            33331620 33281624 33261634 33261650 33241660\n",
      "            33251674 33381695 33741709 34101715 34131744\n",
      "            34191767 34181783 34211806 34361831\n"
     ]
    }
   ],
   "source": [
    "#read in the MPD\n",
    "with open (file_name) as f:\n",
    "    bx2 = f.readlines()\n",
    "    str1 =''.join(bx2)\n",
    "    print(str1)"
   ]
  },
  {
   "cell_type": "code",
   "execution_count": 132,
   "metadata": {},
   "outputs": [
    {
     "name": "stdout",
     "output_type": "stream",
     "text": [
      "Valid 111916Z - 120100Z\n"
     ]
    }
   ],
   "source": [
    "#############################################\n",
    "# Get the valid times of the MPD\n",
    "#############################################\n",
    "\n",
    "ValidTime = re.search('Valid.*', str1)\n",
    "if ValidTime:\n",
    "    print(ValidTime.group(0))\n",
    "    ValidValid = ValidTime.group(0)\n",
    "        \n",
    "ValidSplice = ValidValid[6:]\n",
    "ValidStart = ValidSplice[2:6]\n",
    "ValidEnd = ValidSplice[12:16]\n",
    "ValidDay = ValidSplice[0:2]\n",
    "ValidDay =int(ValidDay)"
   ]
  },
  {
   "cell_type": "code",
   "execution_count": 133,
   "metadata": {},
   "outputs": [
    {
     "name": "stdout",
     "output_type": "stream",
     "text": [
      "Oct 11\n",
      "Oct\n",
      "The month number has been calculated as: 10\n"
     ]
    }
   ],
   "source": [
    "#########################################\n",
    "# Set up the discussion number and date\n",
    "#########################################\n",
    "\n",
    "from datetime import date, datetime\n",
    "\n",
    "meso1 = bx2[0]\n",
    "meso2 = meso1[-5:]\n",
    "date1 = bx2[2]\n",
    "    \n",
    "timeSpace = date1[-30:]\n",
    "dayMonth=date1[15:22]\n",
    "dayMonth=dayMonth.strip()\n",
    "print(dayMonth)\n",
    "year = date1[-5:]\n",
    "year1 = year[:4]\n",
    "finalTime = timeSpace[6:] \n",
    "month = date1[15:19]\n",
    "day = date1[19:22]\n",
    "day1 = date1[19:22]\n",
    "day1 = (day1.strip())\n",
    "\n",
    "#\n",
    "# set up logic to convert month str to int\n",
    "#\n",
    "\n",
    "month_name = month\n",
    "month_name = month_name.strip()\n",
    "print(month_name)\n",
    "datetime_object = datetime.strptime(month_name, \"%b\")\n",
    "month_number = datetime_object.month\n",
    "month_number = str(month_number)\n",
    "print(f'The month number has been calculated as: {month_number}')\n",
    "\n",
    "# Set up datestring to convert to timestamp\n",
    "\n",
    "startHour = ValidStart[0:2]\n",
    "startMinute = ValidStart[2:4]\n",
    "#print(startMinute.rstrip('\\t'))\n",
    "#startMinute = startMinute.rstrip().rstrip()\n",
    "stopHour = ValidEnd[0:2]\n",
    "stopMinute = ValidEnd[2:4]"
   ]
  },
  {
   "cell_type": "code",
   "execution_count": 134,
   "metadata": {},
   "outputs": [
    {
     "name": "stdout",
     "output_type": "stream",
     "text": [
      "possible\n",
      "The flood type is possible\n"
     ]
    }
   ],
   "source": [
    "#############################################\n",
    "# Get the flood type (possible, likely, none)\n",
    "#############################################\n",
    "\n",
    "x11 = re.search('Concerning.*', str1)\n",
    "if x11:\n",
    "        x12 = x11.group(0)\n",
    "        pat = re.compile('possible|likely')\n",
    "        x13 = re.search(pat, x12)\n",
    "        if x13 is None:\n",
    "           floodtype = \"none\"\n",
    "           print('The flood type is', floodtype)\n",
    "        \n",
    "        if x13:\n",
    "           print(x13.group(0))\n",
    "           flood = x13.group(0)\n",
    "           floodtype = flood\n",
    "           print('The flood type is', floodtype)"
   ]
  },
  {
   "cell_type": "code",
   "execution_count": 135,
   "metadata": {},
   "outputs": [
    {
     "name": "stdout",
     "output_type": "stream",
     "text": [
      "LAT...LON   34511830 34511792 34471726 34441671 34371653\n",
      "            34241625 34111600 34051585 33951578 33861578\n",
      "            33781583 33761591 33771596 33791603 33821610\n",
      "            33861621 33911628 33901644 33861647 33801646\n",
      "            33731642 33661635 33591628 33501620 33421619\n",
      "            33331620 33281624 33261634 33261650 33241660\n",
      "            33251674 33381695 33741709 34101715 34131744\n",
      "            34191767 34181783 34211806 34361831\n"
     ]
    }
   ],
   "source": [
    "#############################################\n",
    "# Get the Lat/Lon info\n",
    "#############################################\n",
    "\n",
    "LatLon = re.search('LAT...LON.*', str1, re.M|re.S)\n",
    "if LatLon:\n",
    "   print(LatLon.group(0))\n",
    "   LatLon1 = LatLon.group(0) "
   ]
  },
  {
   "cell_type": "code",
   "execution_count": 136,
   "metadata": {},
   "outputs": [
    {
     "name": "stdout",
     "output_type": "stream",
     "text": [
      "The final WFO list is  LOX PSR SGX VEF\n"
     ]
    }
   ],
   "source": [
    "##############################################\n",
    "# Get the WFOs affected        \n",
    "##############################################\n",
    "\n",
    "WFOwfo = re.search('ATTN...WFO.*', str1, re.M)\n",
    "if WFOwfo:\n",
    "   #print WFOwfo.group(0)\n",
    "   WFOwfo1 = WFOwfo.group(0)\n",
    "                     \n",
    "WFOs = WFOwfo1[13:]\n",
    "#print WFOs\n",
    "MetWFO = WFOs[:-3]\n",
    "#print MetWFO\n",
    "FinalWFO = re.sub('\\...',' ', MetWFO)\n",
    "print(\"The final WFO list is \", FinalWFO)"
   ]
  },
  {
   "cell_type": "code",
   "execution_count": 137,
   "metadata": {},
   "outputs": [],
   "source": [
    "##############################################\n",
    "# Extract and process the Lat/Lon information\n",
    "##############################################\n",
    "\n",
    "LatLon2 = LatLon1[10:]\n",
    "interim = LatLon2.strip('\\n')\n",
    "interim2 = re.split(r'\\s{1,}', interim)\n",
    "\n",
    "latlat = [None] * len(interim2)\n",
    "lonlon = [None] * len(interim2)\n",
    "\n",
    "latlatX = [None] * len(interim2)\n",
    "lonlonX = [None] * len(interim2)\n",
    "lonlonFinal = [None] * len(interim2)\n",
    "\n",
    "lat = [len(interim2)]\n",
    "lon = [len(interim2)]  \n",
    "\n",
    "i =  1\n",
    "while i < len(interim2):\n",
    "    latlat[i] = interim2[i][:4]\n",
    "    lonlon[i] = interim2[i][4:]\n",
    "    latlatX[i] = (float(latlat[i])/100)\n",
    "    lonlonX[i] = (float(lonlon[i])/100)\n",
    "    if lonlonX[i] < 30:\n",
    "       lonlonFinal[i] = ((lonlonX[i] + 100)*-1)\n",
    "    else:\n",
    "       lonlonFinal[i] = ((lonlonX[i])*-1)\n",
    "    \n",
    "       print(i, latlatX[i], lonlonFinal[i])       \n",
    "    i = i + 1"
   ]
  },
  {
   "cell_type": "code",
   "execution_count": 398,
   "metadata": {},
   "outputs": [
    {
     "name": "stdout",
     "output_type": "stream",
     "text": [
      "14\n"
     ]
    }
   ],
   "source": [
    "#################################################\n",
    "# Write the CSV files for ArcMAP online and ArcPY\n",
    "##################################################\n",
    "#Construct the CSV file name\n",
    "\n",
    "#file_nameCSV = f'{path_to_file}{yy}_mpd_{file_load}.csv'\n",
    "\n",
    "#with open(file_nameCSV, 'w') as file:\n",
    "#    writer = csv.writer(file)\n",
    "#    writer.writerow(aa)\n",
    "\n",
    "#bbb = len(interim2)\n",
    "#print(bbb)\n",
    "#\n",
    "#    for i in range(1, bbb): #)[1:]:\n",
    "#        print(i, latlatX[i], lonlonFinal[i])\n",
    "#        writer.writerow((latlatX[i], lonlonFinal[i]))\n",
    "#        writer.writerow((latlatX[1], lonlonFinal[1]))\n",
    "       "
   ]
  },
  {
   "cell_type": "code",
   "execution_count": 141,
   "metadata": {},
   "outputs": [
    {
     "name": "stdout",
     "output_type": "stream",
     "text": [
      "The month_number has been calculated as: 10\n",
      "30\n",
      "Starting month number: 10\n",
      "The stop hour is 1 and the start hour is 19\n"
     ]
    },
    {
     "ename": "NameError",
     "evalue": "name 'day_UTC' is not defined",
     "output_type": "error",
     "traceback": [
      "\u001b[0;31m---------------------------------------------------------------------------\u001b[0m",
      "\u001b[0;31mNameError\u001b[0m                                 Traceback (most recent call last)",
      "Input \u001b[0;32mIn [141]\u001b[0m, in \u001b[0;36m<cell line: 39>\u001b[0;34m()\u001b[0m\n\u001b[1;32m     37\u001b[0m \u001b[38;5;28mprint\u001b[39m(\u001b[38;5;124mf\u001b[39m\u001b[38;5;124m'\u001b[39m\u001b[38;5;124mThe stop hour is \u001b[39m\u001b[38;5;132;01m{\u001b[39;00mstopHour\u001b[38;5;132;01m}\u001b[39;00m\u001b[38;5;124m and the start hour is \u001b[39m\u001b[38;5;132;01m{\u001b[39;00mstartHour\u001b[38;5;132;01m}\u001b[39;00m\u001b[38;5;124m'\u001b[39m)\n\u001b[1;32m     39\u001b[0m \u001b[38;5;28;01mif\u001b[39;00m stopHour \u001b[38;5;241m<\u001b[39m startHour:\n\u001b[0;32m---> 40\u001b[0m     day_UTC \u001b[38;5;241m+\u001b[39m\u001b[38;5;241m=\u001b[39m \u001b[38;5;241m1\u001b[39m\n\u001b[1;32m     42\u001b[0m \u001b[38;5;28mprint\u001b[39m(\u001b[38;5;124mf\u001b[39m\u001b[38;5;124m\"\u001b[39m\u001b[38;5;124mThis day:\u001b[39m\u001b[38;5;132;01m{\u001b[39;00mValidDay\u001b[38;5;132;01m}\u001b[39;00m\u001b[38;5;124m this month:\u001b[39m\u001b[38;5;132;01m{\u001b[39;00mmonth_name\u001b[38;5;132;01m}\u001b[39;00m\u001b[38;5;124m This month number:\u001b[39m\u001b[38;5;132;01m{\u001b[39;00mmonth_number\u001b[38;5;132;01m}\u001b[39;00m\u001b[38;5;124m This month length:\u001b[39m\u001b[38;5;132;01m{\u001b[39;00mmonth_length\u001b[38;5;132;01m}\u001b[39;00m\u001b[38;5;124m,\u001b[39m\u001b[38;5;132;01m{\u001b[39;00mstartHour\u001b[38;5;132;01m}\u001b[39;00m\u001b[38;5;124m\"\u001b[39m)       \n\u001b[1;32m     43\u001b[0m \u001b[38;5;28;01mif\u001b[39;00m day \u001b[38;5;241m==\u001b[39m month_length \u001b[38;5;129;01mand\u001b[39;00m startHour \u001b[38;5;241m<\u001b[39m \u001b[38;5;241m3\u001b[39m:  \n",
      "\u001b[0;31mNameError\u001b[0m: name 'day_UTC' is not defined"
     ]
    }
   ],
   "source": [
    "#\n",
    "# Is it a leap year?\n",
    "#\n",
    "\n",
    "year1 = int(year1)\n",
    "\n",
    "\n",
    "if (year1 % 400 == 0):\n",
    "    leap_year = True\n",
    "elif (year1 % 100 == 0):\n",
    "    leap_year = False\n",
    "elif (year1 % 4 == 0):\n",
    "    leap_year = True\n",
    "else:\n",
    "    leap_year = False\n",
    "\n",
    "\n",
    "\n",
    "month_number = str(month_number)\n",
    "print(f'The month_number has been calculated as: {month_number}')\n",
    "\n",
    "if month_number in (1, 3, 5, 7, 8, 10, 12):\n",
    "    month_length = 31\n",
    "elif month_number == 2:\n",
    "    if leap_year:\n",
    "        month_length = 29\n",
    "    else:\n",
    "        month_length = 28\n",
    "else:\n",
    "    month_length = 30\n",
    "\n",
    "print(month_length)\n",
    "month_number = int(month_number);print(f'Starting month number: {month_number}')       \n",
    "    \n",
    "stopHour = int(stopHour) \n",
    "startHour = int(startHour)\n",
    "print(f'The stop hour is {stopHour} and the start hour is {startHour}')\n",
    "\n",
    "if stopHour < startHour:\n",
    "    day_UTC += 1\n",
    "\n",
    "print(f\"This day:{ValidDay} this month:{month_name} This month number:{month_number} This month length:{month_length},{startHour}\")       \n",
    "if day == month_length and startHour < 3:  \n",
    "    day =1 \n",
    "    startDay = day\n",
    "        \n",
    "if day == 1:\n",
    "    if month_number == 12:\n",
    "        month_number = 1\n",
    "        year1 += 1\n",
    "    else:\n",
    "        month_number += 1\n",
    "        \n",
    "monthDay = (f'{month_name} {ValidDay}')   \n",
    "print(monthDay)            \n",
    "\n",
    "#\n",
    "# Create the date string to compute the datestamp\n",
    "#\n",
    "\n",
    "dateStringStart = (f'{month_number}/{ValidDay}/{year1} {startHour}:{startMinute}');print(dateStringStart)\n",
    "dateStringEnd = (f'{month_number}/{ValidDay}/{year1} {stopHour}:{stopMinute}');print(dateStringEnd)"
   ]
  },
  {
   "cell_type": "code",
   "execution_count": 128,
   "metadata": {},
   "outputs": [
    {
     "name": "stdout",
     "output_type": "stream",
     "text": [
      "10/5/2022 6:00\n",
      "1664964000.0\n",
      "1664982000.0\n",
      "300.0\n"
     ]
    }
   ],
   "source": [
    "#\n",
    "# setup the time stamps\n",
    "#\n",
    "\n",
    "import time\n",
    "import datetime\n",
    "from datetime import datetime\n",
    "\n",
    "print(dateStringStart)\n",
    "objStart = time.strptime(dateStringStart, \"%m/%d/%Y %H:%M\")\n",
    "objStop = time.strptime(dateStringEnd,\"%m/%d/%Y %H:%M\")\n",
    "\n",
    "tStampStart = time.mktime(objStart);print(tStampStart)\n",
    "tStampStop = time.mktime(objStop);print(tStampStop)\n",
    "\n",
    "diffTime = ((tStampStop - tStampStart)/60);print(diffTime)\n",
    "diffTime = int(diffTime)"
   ]
  },
  {
   "cell_type": "code",
   "execution_count": 129,
   "metadata": {},
   "outputs": [
    {
     "name": "stdout",
     "output_type": "stream",
     "text": [
      "1075\n",
      "1076\n",
      "/Users/jameshayes/MPD2022.xlsx\n",
      "<openpyxl.workbook.workbook.Workbook object at 0x7fb5314cd1f0>\n",
      "Writing out the header to the Excel file...\n",
      "Writing the MPD info to the file...\n"
     ]
    }
   ],
   "source": [
    "######x###########################################\n",
    "# Write the other information to an Excel file\n",
    "##################################################\n",
    "\n",
    "from openpyxl import load_workbook\n",
    "qb22 = int(file_load)\n",
    "print(qb22)\n",
    "qb33 = qb22 + 1\n",
    "print(qb33)\n",
    "\n",
    "\n",
    "file_path_xls = f'{path_to_file}MPD{yy}.xlsx'\n",
    "print(file_path_xls)\n",
    "\n",
    "\n",
    "wb = load_workbook(file_path_xls)\n",
    "print(wb)\n",
    "sheet = wb.active\n",
    "\n",
    "# write out the header\n",
    "\n",
    "print(\"Writing out the header to the Excel file...\")\n",
    "\n",
    "a1 = sheet['A1']\n",
    "a1.value = \"MPD#\"\n",
    "b1 = sheet['B1']\n",
    "b1.value = \"Date\"\n",
    "c1 = sheet['C1']\n",
    "c1.value = \"Cat\"\n",
    "d1 = sheet['D1']\n",
    "d1.value = \"Start\"\n",
    "e1 = sheet['E1']\n",
    "e1.value = \"Stop\"\n",
    "f1 = sheet['F1']\n",
    "f1.value = \"Time\"\n",
    "g1 = sheet['G1']\n",
    "g1.value = \"Area\"\n",
    "h1 = sheet['H1']\n",
    "h1.value = \"WFO\"\n",
    "\n",
    "# Write the data to the correct locations\n",
    "\n",
    "print\n",
    "print(\"Writing the MPD info to the file...\")\n",
    "\n",
    "# First the MPD#\n",
    "aNext = sheet.cell(row = qb33, column = 1)\n",
    "aNext.value = qb22\n",
    "\n",
    "#Next the date\n",
    "bNext = sheet.cell(row = qb33, column = 2)\n",
    "bNext.value = monthDay\n",
    "\n",
    "#Next the category of flooding\n",
    "cNext = sheet.cell(row = qb33, column = 3)\n",
    "cNext.value = floodtype\n",
    "\n",
    "# Start time of the MPD\n",
    "dNext = sheet.cell(row = qb33, column = 4)\n",
    "dNext.value = ValidStart\n",
    "\n",
    "# End of the MPD\n",
    "eNext = sheet.cell(row = qb33, column = 5)\n",
    "eNext.value = ValidEnd\n",
    "\n",
    "# Get the time length of the MPD (under construction)\n",
    "fNext = sheet.cell(row = qb33, column = 6)\n",
    "fNext.value = diffTime\n",
    "\n",
    "# Get the Area (under construction)\n",
    "#gNext sheet.cell(row = qb33, column = 7)\n",
    "#gNext.value = Area\n",
    "\n",
    "# WFOs in the MPD\n",
    "hNext = sheet.cell(row = qb33, column = 8)\n",
    "hNext.value = FinalWFO\n",
    "\n",
    "\n",
    "wb.save(file_path_xls)"
   ]
  },
  {
   "cell_type": "code",
   "execution_count": null,
   "metadata": {},
   "outputs": [],
   "source": []
  },
  {
   "cell_type": "code",
   "execution_count": null,
   "metadata": {},
   "outputs": [],
   "source": []
  }
 ],
 "metadata": {
  "kernelspec": {
   "display_name": "Python 3 (ipykernel)",
   "language": "python",
   "name": "python3"
  },
  "language_info": {
   "codemirror_mode": {
    "name": "ipython",
    "version": 3
   },
   "file_extension": ".py",
   "mimetype": "text/x-python",
   "name": "python",
   "nbconvert_exporter": "python",
   "pygments_lexer": "ipython3",
   "version": "3.8.5"
  }
 },
 "nbformat": 4,
 "nbformat_minor": 4
}
