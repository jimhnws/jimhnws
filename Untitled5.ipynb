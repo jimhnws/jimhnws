{
 "cells": [
  {
   "cell_type": "code",
   "execution_count": 3,
   "id": "f6e7b556",
   "metadata": {},
   "outputs": [],
   "source": [
    "import datetime\n",
    "from datetime import timedelta\n",
    "from datetime import date\n",
    "import month_Days"
   ]
  },
  {
   "cell_type": "code",
   "execution_count": 4,
   "id": "e8d1b2f8",
   "metadata": {},
   "outputs": [
    {
     "name": "stdout",
     "output_type": "stream",
     "text": [
      "Today is:  2023-07-07\n",
      "The day of the month is:  7 \n",
      "\n",
      "Yesterday was:  2023-07-06\n",
      "The day of the month yesterday was:  6 \n",
      "\n"
     ]
    }
   ],
   "source": [
    "today = date.today()\n",
    "todayDate = datetime.date.today()\n",
    "yesterday = today - timedelta(days = 1)\n",
    "\n",
    "print(\"Today is: \", today)\n",
    "todayDay = today.strftime(\"%d\")\n",
    "todayDay = int(todayDay)\n",
    "print(\"The day of the month is: \", todayDay, \"\\n\")\n",
    "\n",
    "print(\"Yesterday was: \", yesterday)\n",
    "yesterdayDay = yesterday.strftime(\"%d\")\n",
    "yesterdayDay = int(yesterdayDay)\n",
    "print(\"The day of the month yesterday was: \", yesterdayDay, \"\\n\")\n"
   ]
  },
  {
   "cell_type": "code",
   "execution_count": null,
   "id": "4df26b22",
   "metadata": {},
   "outputs": [],
   "source": []
  }
 ],
 "metadata": {
  "kernelspec": {
   "display_name": "Python 3 (ipykernel)",
   "language": "python",
   "name": "python3"
  },
  "language_info": {
   "codemirror_mode": {
    "name": "ipython",
    "version": 3
   },
   "file_extension": ".py",
   "mimetype": "text/x-python",
   "name": "python",
   "nbconvert_exporter": "python",
   "pygments_lexer": "ipython3",
   "version": "3.10.9"
  }
 },
 "nbformat": 4,
 "nbformat_minor": 5
}
