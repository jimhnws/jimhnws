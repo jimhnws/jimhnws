{
 "cells": [
  {
   "cell_type": "code",
   "execution_count": 11,
   "id": "eb3d706a",
   "metadata": {},
   "outputs": [],
   "source": [
    "import pandas as pd\n",
    "import pymysql as dbapi\n",
    "import sys\n",
    "import csv\n",
    "\n",
    "QUERY = '''SELECT * from trweather\n",
    "         WHERE Year = '2014'\n",
    "         AND Month = '5' '''\n",
    "db = dbapi.connect(host='3.135.162.69',user='chuckwx',passwd='jfr716!!00', database = 'trweather')\n",
    "\n",
    "cur = db.cursor()\n",
    "cur.execute(QUERY)\n",
    "result = cur.fetchall()\n",
    "dataset = list(result)\n",
    "column_names = ['Index', 'Rain', 'High', 'Low', 'Year', 'Month', 'Day']\n",
    "\n",
    "df = pd.DataFrame(dataset, columns = column_names)\n",
    "df = df.drop(df.columns[[0]], axis=1)\n",
    "\n",
    "df.to_csv('/Users/jameshayes/test901.csv')"
   ]
  },
  {
   "cell_type": "code",
   "execution_count": null,
   "id": "ec006a6f",
   "metadata": {},
   "outputs": [],
   "source": []
  }
 ],
 "metadata": {
  "kernelspec": {
   "display_name": "Python 3 (ipykernel)",
   "language": "python",
   "name": "python3"
  },
  "language_info": {
   "codemirror_mode": {
    "name": "ipython",
    "version": 3
   },
   "file_extension": ".py",
   "mimetype": "text/x-python",
   "name": "python",
   "nbconvert_exporter": "python",
   "pygments_lexer": "ipython3",
   "version": "3.10.9"
  }
 },
 "nbformat": 4,
 "nbformat_minor": 5
}
