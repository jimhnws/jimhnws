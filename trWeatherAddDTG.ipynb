{
 "cells": [
  {
   "cell_type": "code",
   "execution_count": 76,
   "id": "8314f694",
   "metadata": {},
   "outputs": [],
   "source": [
    "import pandas as pd\n",
    "import datetime\n",
    "from datetime import datetime\n",
    "import sqlalchemy\n",
    "import mysql.connector\n",
    "import sqlite3\n",
    "\n",
    "df = pd.read_csv('/home/ec2-user/CompleteWeatherRecordsExport.csv')\n",
    "\n",
    "year = (df['Year']).astype(str)\n",
    "month = (df['Month']).astype(str)\n",
    "day = (df['Day']).astype(str)\n",
    "\n",
    "x = pd.to_datetime(df[['Year', 'Month', 'Day']])\n",
    "df['timeGroup'] = x\n",
    "\n",
    "database_username = 'chuckwx'\n",
    "database_password = 'jfr716!!00'\n",
    "database_ip       = '3.135.162.69'\n",
    "database_name     = 'trweather'\n",
    "database_connection = sqlalchemy.create_engine('mysql+mysqlconnector://{0}:{1}@{2}/{3}'.\n",
    "                                               format(database_username, database_password, \n",
    "                                                      database_ip, database_name), connect_args={'connect_timeout': 30})\n",
    "df.to_sql(con=database_connection, name='TRW', if_exists='replace')"
   ]
  },
  {
   "cell_type": "code",
   "execution_count": null,
   "id": "12f653b0",
   "metadata": {},
   "outputs": [],
   "source": []
  }
 ],
 "metadata": {
  "kernelspec": {
   "display_name": "Python 3 (ipykernel)",
   "language": "python",
   "name": "python3"
  },
  "language_info": {
   "codemirror_mode": {
    "name": "ipython",
    "version": 3
   },
   "file_extension": ".py",
   "mimetype": "text/x-python",
   "name": "python",
   "nbconvert_exporter": "python",
   "pygments_lexer": "ipython3",
   "version": "3.10.9"
  }
 },
 "nbformat": 4,
 "nbformat_minor": 5
}
