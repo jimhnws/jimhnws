{
 "cells": [
  {
   "cell_type": "code",
   "execution_count": null,
   "id": "092a184c",
   "metadata": {},
   "outputs": [],
   "source": [
    "import pandas as pd\n",
    "from pandas import DataFrame\n",
    "import os\n",
    "import calendar\n",
    "from pretty_html_table import build_table\n",
    "import sys\n",
    "import json\n",
    "from pandas import json_normalize\n",
    "\n",
    "#\n",
    "# Read in file with user request for monthly data\n",
    "#\n",
    "\n",
    "colNames = ['Year', 'Month', 'Date', 'High', 'Low', 'Average', 'HDD', 'CDD', 'Rainfall']\n",
    "df = pd.read_json('/var/www/html/000/daily.txt')\n",
    "#df = pd.read_json('/Users/jameshayes/monthly.txt')\n",
    "df = df.drop(df.columns[[0, 10]], axis=1)\n",
    "print(df)\n",
    "\n",
    "html_table_blue_light = build_table(df, 'blue_light')\n",
    "\n",
    "with open('/var/www/html/000/dailyTable.html', 'w') as f:\n",
    "#with open('/Users/jameshayes/monthlyTable.html', 'w') as f: \n",
    "    f.write(html_table_blue_light)\n"
   ]
  }
 ],
 "metadata": {
  "kernelspec": {
   "display_name": "Python 3 (ipykernel)",
   "language": "python",
   "name": "python3"
  },
  "language_info": {
   "codemirror_mode": {
    "name": "ipython",
    "version": 3
   },
   "file_extension": ".py",
   "mimetype": "text/x-python",
   "name": "python",
   "nbconvert_exporter": "python",
   "pygments_lexer": "ipython3",
   "version": "3.10.9"
  }
 },
 "nbformat": 4,
 "nbformat_minor": 5
}
