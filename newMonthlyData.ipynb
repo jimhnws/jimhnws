{
 "cells": [
  {
   "cell_type": "code",
   "execution_count": 1,
   "id": "faffcfc2",
   "metadata": {},
   "outputs": [],
   "source": [
    "import json\n",
    "import urllib\n",
    "import requests\n",
    "import csv"
   ]
  },
  {
   "cell_type": "code",
   "execution_count": 156,
   "id": "03b316a3",
   "metadata": {},
   "outputs": [
    {
     "name": "stdout",
     "output_type": "stream",
     "text": [
      "    Date  High  Low  Average  HDD  CDD  Rainfall\n",
      "0      1    66   46       56    9    0      0.00\n",
      "1      2    63   45       54   11    0      0.00\n",
      "2      3    72   43       58    7    0      0.00\n",
      "3      4    67   46       56    9    0      0.00\n",
      "4      5    72   50       61    4    0      0.00\n",
      "5      6    74   63       68    0    3      0.04\n",
      "6      7    70   52       61    4    0      0.01\n",
      "7      8    60   39       50   15    0      0.00\n",
      "8      9    59   33       46   19    0      0.00\n",
      "9     10    60   56       58    7    0      1.81\n",
      "10    11    56   50       53   12    0      0.07\n",
      "11    12    59   52       56    9    0      0.13\n",
      "12    13    60   45       52   13    0      0.00\n",
      "13    14    52   35       44   21    0      0.00\n",
      "14    15    61   34       48   17    0      0.00\n",
      "15    16    69   44       56    9    0      0.00\n",
      "16    17    54   46       50   15    0      0.00\n",
      "17    18    60   46       53   12    0      0.00\n",
      "18    19    63   56       60    5    0      0.84\n",
      "19    20    63   41       52   13    0      0.02\n",
      "20    21    53   38       46   19    0      0.00\n",
      "21    22    55   41       48   17    0      0.00\n",
      "22    23    44   28       36   29    0      0.00\n",
      "23    24    50   24       37   28    0      0.00\n",
      "24    25    50   28       39   26    0      0.00\n",
      "25    26    62   31       46   19    0      0.00\n",
      "26    27    67   44       56    9    0      0.00\n",
      "27    28    63   46       54   11    0      0.01\n",
      "28    29    46   36       41   24    0      0.04\n",
      "29    30    50   40       45   20    0      0.01\n"
     ]
    }
   ],
   "source": [
    "import pandas as pd\n",
    "import calendar\n",
    "\n",
    "#\n",
    "# Read JSON request into a pandas Dataframe\n",
    "#\n",
    "\n",
    "colNames = ['index', 'Rain', 'HiTemp', 'LowTemp', 'Year', 'Month', 'Day']\n",
    "df = pd.read_json('/var/www/html/000/monthly.txt')\n",
    "df = df.drop(df.columns[[0]], axis=1)\n",
    "\n",
    "#\n",
    "# Get month name from month number and make some conversions \n",
    "#\n",
    "\n",
    "Date = (df['Day']).astype(int)\n",
    "month_num  = (df['Month']).astype(int)\n",
    "month_num = month_num[0]\n",
    "month_name = calendar.month_name[month_num]\n",
    "Year = (df['Year']).astype(int)\n",
    "year = Year[0]\n",
    "\n",
    "High = (df['HiTemp']).round(0).astype(int)\n",
    "Low = (df['LowTemp']).round(0).astype(int)\n",
    "Avg = ((High + Low)/2).round(0).astype(int)\n",
    "HDD = (65 - Avg).round(0).astype(int)\n",
    "HDD = HDD.where(HDD > 0, 0) \n",
    "CDD = (Avg - 65).round(0).astype(int)\n",
    "CDD = CDD.where(CDD > 0, 0) \n",
    "Rainfall = (df['Rain']).astype(float).fillna(0)\n",
    "\n",
    "month_High_avg = High.mean().round(1) \n",
    "month_Low_avg = Low.mean().round(1) \n",
    "month_avg = Avg.mean().round(1)\n",
    "totHDD = HDD.sum()\n",
    "totCDD = CDD.sum()\n",
    "totRainfall = Rainfall.sum().round(2)\n",
    "\n",
    "df.insert(6, 'Average', Avg)\n",
    "df.insert(7, 'HDD', HDD)\n",
    "df.insert(8, 'CDD', CDD)\n",
    "df.insert(9, 'High', High)\n",
    "df.insert(10, 'Low', Low)\n",
    "df.insert(11, 'Rainfall', Rainfall)\n",
    "df.insert(12, 'Date', Date)\n",
    "\n",
    "df = df.reindex(columns=['Year', 'Month', 'Date', 'High', 'Low', 'Average', 'HDD', 'CDD','Rainfall'])\n",
    "df = df.drop(df.columns[[0,1]], index = None, axis=1)"
   ]
  },
  {
   "cell_type": "code",
   "execution_count": 162,
   "id": "8ece391b",
   "metadata": {},
   "outputs": [],
   "source": [
    "from pretty_html_table import build_table\n",
    "\n",
    "html_table_blue_light = build_table(df, 'blue_light', text_align='center')\n",
    "\n",
    "with open('/var/www/html/000/monthlyTable.html', 'w') as f:\n",
    "    f.write(html_table_blue_light)"
   ]
  }
 ],
 "metadata": {
  "kernelspec": {
   "display_name": "Python 3 (ipykernel)",
   "language": "python",
   "name": "python3"
  },
  "language_info": {
   "codemirror_mode": {
    "name": "ipython",
    "version": 3
   },
   "file_extension": ".py",
   "mimetype": "text/x-python",
   "name": "python",
   "nbconvert_exporter": "python",
   "pygments_lexer": "ipython3",
   "version": "3.10.9"
  }
 },
 "nbformat": 4,
 "nbformat_minor": 5
}
