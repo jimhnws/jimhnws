{
 "cells": [
  {
   "cell_type": "code",
   "execution_count": 10,
   "id": "fdc7628d",
   "metadata": {},
   "outputs": [
    {
     "name": "stdout",
     "output_type": "stream",
     "text": [
      "<class 'str'>\n",
      "<class 'str'>\n",
      "<class 'str'>\n",
      "select @startTime := timeGroup from TRW order by timeGroup DESC LIMIT 1;SELECT @endTime := DATE_SUB(@startTime, INTERVAL 30 Day);select * from TRW WHERE timeGroup BETWEEN @endTime AND @startTime into OUTFILE '/tmp/trweatherTest.csv';\n"
     ]
    }
   ],
   "source": [
    "import pandas as pd\n",
    "import dataFile\n",
    "import getNameNumbers\n",
    "import sqlalchemy\n",
    "import mysql.connector\n",
    "import sqlite3\n",
    "import NoDaysInMonth\n",
    "\n",
    "# creating connection\n",
    "conn = mysql.connector.connect(\n",
    "  host=\"3.135.162.69\",\n",
    "  user=\"chuckwx\",\n",
    "  password=\"jfr716!!00\"\n",
    ")\n",
    "\n",
    "popData1 = (\"select @startTime := timeGroup from TRW order by timeGroup DESC LIMIT 1;\")\n",
    "popData2 = (\"SELECT @endTime := DATE_SUB(@startTime, INTERVAL 30 Day);\")\n",
    "popData3 = (\"select * from TRW WHERE timeGroup BETWEEN @endTime AND @startTime into OUTFILE '/tmp/trweatherTest.csv';\");\n",
    "getData = popData1 + popData2 + popData3\n",
    "\n",
    "mycursor = conn.cursor()\n",
    "mycursor.execute(\"USE trweather;\")\n",
    "mycursor.execute(getData)"
   ]
  },
  {
   "cell_type": "code",
   "execution_count": null,
   "id": "47ab8eb1",
   "metadata": {},
   "outputs": [],
   "source": []
  }
 ],
 "metadata": {
  "kernelspec": {
   "display_name": "Python 3 (ipykernel)",
   "language": "python",
   "name": "python3"
  },
  "language_info": {
   "codemirror_mode": {
    "name": "ipython",
    "version": 3
   },
   "file_extension": ".py",
   "mimetype": "text/x-python",
   "name": "python",
   "nbconvert_exporter": "python",
   "pygments_lexer": "ipython3",
   "version": "3.10.9"
  }
 },
 "nbformat": 4,
 "nbformat_minor": 5
}
