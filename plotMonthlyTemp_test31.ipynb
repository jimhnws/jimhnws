{
 "cells": [
  {
   "cell_type": "code",
   "execution_count": null,
   "id": "21281ebf",
   "metadata": {},
   "outputs": [],
   "source": [
    "import pandas as pd\n",
    "import matplotlib.pyplot as plt\n",
    "import matplotlib.colors as mcolors\n",
    "import numpy as np\n",
    "import numpy as np\n",
    "from scipy.interpolate import make_interp_spline\n",
    "import calcTimeNow\n",
    "import month_Days\n",
    "import getNameNumbers"
   ]
  },
  {
   "cell_type": "code",
   "execution_count": 1,
   "id": "0d1b68e6",
   "metadata": {},
   "outputs": [
    {
     "ename": "NameError",
     "evalue": "name 'getNameNumbers' is not defined",
     "output_type": "error",
     "traceback": [
      "\u001b[0;31m---------------------------------------------------------------------------\u001b[0m",
      "\u001b[0;31mNameError\u001b[0m                                 Traceback (most recent call last)",
      "Cell \u001b[0;32mIn[1], line 12\u001b[0m\n\u001b[1;32m      8\u001b[0m sta \u001b[38;5;241m=\u001b[39m [\u001b[38;5;124m'\u001b[39m\u001b[38;5;124mDavis\u001b[39m\u001b[38;5;124m'\u001b[39m, \u001b[38;5;124m'\u001b[39m\u001b[38;5;124mTempest\u001b[39m\u001b[38;5;124m'\u001b[39m]\n\u001b[1;32m     10\u001b[0m \u001b[38;5;28;01mfor\u001b[39;00m qwe \u001b[38;5;129;01min\u001b[39;00m sta:\n\u001b[0;32m---> 12\u001b[0m     wl \u001b[38;5;241m=\u001b[39m \u001b[43mgetNameNumbers\u001b[49m\u001b[38;5;241m.\u001b[39mtempest_ec2()\n\u001b[1;32m     13\u001b[0m     xls_filename, xls_fullfile, path_name, date, this_month, thisYear, r \u001b[38;5;241m=\u001b[39m wl[\u001b[38;5;241m0\u001b[39m], wl[\u001b[38;5;241m1\u001b[39m], \\\n\u001b[1;32m     14\u001b[0m     wl[\u001b[38;5;241m2\u001b[39m], wl[\u001b[38;5;241m3\u001b[39m], wl[\u001b[38;5;241m4\u001b[39m], wl[\u001b[38;5;241m5\u001b[39m], wl[\u001b[38;5;241m6\u001b[39m]   \n\u001b[1;32m     16\u001b[0m     wxdata \u001b[38;5;241m=\u001b[39m \u001b[38;5;124mf\u001b[39m\u001b[38;5;124m'\u001b[39m\u001b[38;5;132;01m{\u001b[39;00mpath_name\u001b[38;5;132;01m}\u001b[39;00m\u001b[38;5;132;01m{\u001b[39;00mthis_month\u001b[38;5;132;01m}\u001b[39;00m\u001b[38;5;124m_\u001b[39m\u001b[38;5;132;01m{\u001b[39;00mthisYear\u001b[38;5;132;01m}\u001b[39;00m\u001b[38;5;124m_\u001b[39m\u001b[38;5;132;01m{\u001b[39;00mqwe\u001b[38;5;132;01m}\u001b[39;00m\u001b[38;5;124m.xlsx\u001b[39m\u001b[38;5;124m'\u001b[39m\n",
      "\u001b[0;31mNameError\u001b[0m: name 'getNameNumbers' is not defined"
     ]
    }
   ],
   "source": [
    "#\n",
    "# Make some graphs - temperature line plots first\n",
    "# For just one month\n",
    "#\n",
    "\n",
    "# Determine the date\n",
    "\n",
    "sta = ['Davis', 'Tempest']\n",
    "\n",
    "for qwe in sta:\n",
    "    \n",
    "    wl = getNameNumbers.tempest_ec2()\n",
    "    xls_filename, xls_fullfile, path_name, date, this_month, thisYear, r = wl[0], wl[1], \\\n",
    "    wl[2], wl[3], wl[4], wl[5], wl[6]   \n",
    "    \n",
    "    wxdata = f'{path_name}{this_month}_{thisYear}_{qwe}.xlsx'\n",
    "    df = pd.read_excel(wxdata, skiprows=[0,1])\n",
    "    if qwe == 'Davis':\n",
    "        df = df.drop(df.columns[[3,4,5,6,7,8,9,10,11,12,13,14]], axis=1)\n",
    "        \n",
    "    else:\n",
    "        df = df.drop(df.columns[[3,4,5,6,7,8,9]], axis=1)\n",
    "        \n",
    "       \n",
    "    df = df.drop(df.index[date:r])\n",
    "    df['Date'] = df['Date'].astype(int)\n",
    "    \n",
    "    HI = df['High']\n",
    "    LO = df[\"Low\"]\n",
    "    DATE = df[\"Date\"]\n",
    "    print(DATE)\n",
    "\n",
    "    y = HI.to_numpy()\n",
    "    y1 = LO.to_numpy()\n",
    "    x = DATE.to_numpy()\n",
    "    print(date)\n",
    "\n",
    "    \n",
    "    #define x as 200 equally spaced values between the min and max of original x \n",
    "    #xnew = np.linspace(x.min(), x.max(), 200) \n",
    "\n",
    "    #define spline\n",
    "    #HIspl = make_interp_spline(x, y, k=2)\n",
    "    #y_smooth = HIspl(xnew)\n",
    "    #LOspl = make_interp_spline(x, y1, k=2)\n",
    "    #y1_smooth = LOspl(xnew)\n",
    "    \n",
    "    path1 = '/var/www/html/000/'\n",
    "    plt.figure(figsize= (10,6))\n",
    "    #plt.locator_params(axis='x', nbins = date)\n",
    "    plt.xlim(1,date)\n",
    "    plt.ylim(0, 105)\n",
    "    plt.xticks(fontsize=12)\n",
    "    plt.xlabel('Date', fontsize=12, fontweight ='bold')\n",
    "    plt.yticks(fontsize=12)\n",
    "    plt.ylabel('Temperature (F)', fontsize=12, fontweight ='bold')\n",
    "    plt.locator_params(axis='y', nbins=20)\n",
    "    plt.title(f'{this_month} {thisYear} Temperatures - {qwe}', fontsize=12, fontweight ='bold')\n",
    "    plt.grid(axis = \"y\", linewidth = 2.0, color = 'black')\n",
    "    plt.plot(x, y, color = \"red\", linewidth =3, label =\"High\")\n",
    "    plt.plot(x, y1, color = \"blue\", linewidth =3, label =\"Low\")\n",
    "    plt.autoscale() \n",
    "    plt.legend(fontsize=12)\n",
    "    plt.savefig(f'{path1}temps_{qwe}')\n",
    "    "
   ]
  },
  {
   "cell_type": "code",
   "execution_count": null,
   "id": "f95be508",
   "metadata": {},
   "outputs": [],
   "source": []
  }
 ],
 "metadata": {
  "kernelspec": {
   "display_name": "Python 3 (ipykernel)",
   "language": "python",
   "name": "python3"
  },
  "language_info": {
   "codemirror_mode": {
    "name": "ipython",
    "version": 3
   },
   "file_extension": ".py",
   "mimetype": "text/x-python",
   "name": "python",
   "nbconvert_exporter": "python",
   "pygments_lexer": "ipython3",
   "version": "3.10.9"
  }
 },
 "nbformat": 4,
 "nbformat_minor": 5
}
