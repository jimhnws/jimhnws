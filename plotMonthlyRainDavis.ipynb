{
 "cells": [
  {
   "cell_type": "code",
   "execution_count": 1,
   "id": "757003f3",
   "metadata": {},
   "outputs": [],
   "source": [
    "import pandas as pd\n",
    "import matplotlib.pyplot as plt\n",
    "import matplotlib.colors as mcolors\n",
    "import numpy as np\n",
    "import numpy as np\n",
    "from scipy.interpolate import make_interp_spline\n",
    "import calcTimeNow\n",
    "import getDaysInMonth"
   ]
  },
  {
   "cell_type": "code",
   "execution_count": 2,
   "id": "07381a4c",
   "metadata": {},
   "outputs": [
    {
     "ename": "SyntaxError",
     "evalue": "incomplete input (4076313532.py, line 56)",
     "output_type": "error",
     "traceback": [
      "\u001b[0;36m  Cell \u001b[0;32mIn[2], line 56\u001b[0;36m\u001b[0m\n\u001b[0;31m    df.plt(kind=\"bar\", x = \"Date\", rot = 0, width = 0.9, color={\"Rainfall\":\u001b[0m\n\u001b[0m                                                                           ^\u001b[0m\n\u001b[0;31mSyntaxError\u001b[0m\u001b[0;31m:\u001b[0m incomplete input\n"
     ]
    }
   ],
   "source": [
    "path = '/home/ec2-user/'\n",
    "path1 = '/var/www/html/trclimate/'\n",
    "\n",
    "sta = ['Davis']\n",
    "\n",
    "for qwe in sta:\n",
    "\n",
    "    xr = calcTimeNow.calcTimeNow()\n",
    "    month_name = calcTimeNow.calcMonthNow()\n",
    "    year, date = xr[2],xr[3]\n",
    "    year = int(year)\n",
    "    date =  int(date)\n",
    "    date = date - 1\n",
    "    r = getDaysInMonth.getDaysInMonth()\n",
    "    height = 0\n",
    "              \n",
    "    wxdata = f'{path}{month_name}_{year}_{qwe}.xlsx'\n",
    "    df = pd.read_excel(wxdata, skiprows=[0,1])\n",
    "            \n",
    "    if qwe == 'Tempest':\n",
    "        df = df.drop(df.columns[[1,2,3,4,5,8,9]], axis=1)\n",
    "        df = df.drop(df.index[date:r+1]) \n",
    "        df['Date'] = df['Date'].astype(int)\n",
    "       \n",
    "    else:\n",
    "        df = df.drop(df.columns[[1,2,3,4,5,7,8,9,10,11,12,13,14]], axis=1)\n",
    "        df = df.drop(df.index[date:r+1])\n",
    "        df['Date'] = df['Date'].astype(int)\n",
    "                \n",
    "    #Plot the results in matplotlib\n",
    "\n",
    "    plt.figure(figsize=(10, 6))\n",
    "    plt.grid(True)\n",
    "    plt.locator_params(axis='x', nbins= r)\n",
    "    plt.xlim(1,r)\n",
    "    plt.ylim(0, None)\n",
    "    plt.xticks(fontsize=12)\n",
    "    plt.xlabel('Date', fontsize=12, fontweight ='bold')\n",
    "    plt.yticks(fontsize=12)\n",
    "    plt.ylabel('Rainfall (inches)', fontsize=12, fontweight ='bold')\n",
    "    plt.locator_params(axis='y', nbins=10)\n",
    "    plt.bar(df['Date'],df['Rainfall'], color = \"green\", width= 0.6)\n",
    "    plt.title(f'{month_name} {year} Rainfall', fontsize=12, fontweight ='bold')\n",
    "    plt.savefig(f'{path1}rain_{qwe}')    "
   ]
  },
  {
   "cell_type": "code",
   "execution_count": null,
   "id": "4ce2211a",
   "metadata": {},
   "outputs": [],
   "source": []
  }
 ],
 "metadata": {
  "kernelspec": {
   "display_name": "Python 3 (ipykernel)",
   "language": "python",
   "name": "python3"
  },
  "language_info": {
   "codemirror_mode": {
    "name": "ipython",
    "version": 3
   },
   "file_extension": ".py",
   "mimetype": "text/x-python",
   "name": "python",
   "nbconvert_exporter": "python",
   "pygments_lexer": "ipython3",
   "version": "3.10.9"
  }
 },
 "nbformat": 4,
 "nbformat_minor": 5
}
