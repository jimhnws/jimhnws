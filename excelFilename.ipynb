{
 "cells": [
  {
   "cell_type": "code",
   "execution_count": 1,
   "metadata": {},
   "outputs": [],
   "source": [
    "import datetime\n",
    "from datetime import datetime\n",
    "\n",
    "def wxflow():\n",
    "    now = datetime.now()\n",
    "    myMonth = now.strftime(\"%B\")\n",
    "    myYear = now.strftime(\"%Y\")\n",
    "    path_name = '/Users/jameshayes/'\n",
    "    platform = \"Tempest\"\n",
    "    xls_suffix = '.xlsx'\n",
    "    xls_filename = f'{myMonth}_{myYear}_{platform}{xls_suffix}'\n",
    "   \n",
    "    return(xls_filename)"
   ]
  },
  {
   "cell_type": "code",
   "execution_count": 2,
   "metadata": {},
   "outputs": [],
   "source": [
    "import datetime\n",
    "from datetime import datetime\n",
    "\n",
    "def davis():\n",
    "    now = datetime.now()\n",
    "    myMonth = now.strftime(\"%B\")\n",
    "    myYear = now.strftime(\"%Y\")\n",
    "    path_name = '/home/ec2-user/'\n",
    "    platform = \"Davis\"\n",
    "    xls_suffix = '.xlsx'\n",
    "    xls_filename = f'{myMonth}_{myYear}_{platform}{xls_suffix}'\n",
    "   \n",
    "    return(xls_filename)"
   ]
  }
 ],
 "metadata": {
  "kernelspec": {
   "display_name": "Python 3 (ipykernel)",
   "language": "python",
   "name": "python3"
  },
  "language_info": {
   "codemirror_mode": {
    "name": "ipython",
    "version": 3
   },
   "file_extension": ".py",
   "mimetype": "text/x-python",
   "name": "python",
   "nbconvert_exporter": "python",
   "pygments_lexer": "ipython3",
   "version": "3.8.5"
  }
 },
 "nbformat": 4,
 "nbformat_minor": 4
}
