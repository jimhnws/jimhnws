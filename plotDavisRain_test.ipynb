{
 "cells": [
  {
   "cell_type": "code",
   "execution_count": 2,
   "id": "44145688",
   "metadata": {
    "scrolled": true
   },
   "outputs": [],
   "source": [
    "import pandas as pd\n",
    "import datetime\n",
    "from datetime import datetime\n",
    "import sqlalchemy\n",
    "import mysql.connector\n",
    "import sqlite3\n",
    "import pandas as pd\n",
    "import getDays\n",
    "import pymysql as dbapi\n",
    "\n",
    "#\n",
    "# Get some time/date info\n",
    "#\n",
    "\n",
    "todayInfo = getDays.getToday()\n",
    "yesterdayInfo = getDays.getYesterday()\n",
    "tomorrowInfo = getDays.getTomorrow()\n",
    "\n",
    "month, month_num, date, year = todayInfo[0], todayInfo[1], todayInfo[2], todayInfo[3]\n",
    "yesterday = yesterdayInfo[2]\n",
    "yesterday = int(yesterday)\n",
    "month_num = int(month_num)\n",
    "nextDay = tomorrowInfo[2]\n",
    "nextDay = int(nextDay)\n",
    "date = int(date)\n",
    "\n",
    "#\n",
    "# Get data from the table\n",
    "#\n",
    "\n",
    "QUERY = \"\"\"SELECT * FROM davisF6 \n",
    "           WHERE month = %s\"\"\" % (month_num)\n",
    "\n",
    "\n",
    "db = dbapi.connect(host='3.135.162.69',user='chuckwx',passwd='jfr716!!00', database = 'davisf6')\n",
    "\n",
    "cur = db.cursor()\n",
    "cur.execute(QUERY)\n",
    "records = cur.fetchall()\n",
    "\n",
    "#\n",
    "# Dump the data into a pandas DataFrame\n",
    "#\n",
    "\n",
    "df = pd.DataFrame(records, columns = ['index', 'Year', 'Month', 'Date', 'High', 'Low', 'Rainfall', 'Max_Dew_Point'])\n",
    "df\n",
    "\n",
    "#\n",
    "# Dump the data into a pandas DataFrame\n",
    "#\n",
    "\n",
    "df = pd.DataFrame(records, columns = ['index', 'Year', 'Month', 'Date', 'High', 'Low', 'Rainfall', 'Max_Dew_Point'])"
   ]
  },
  {
   "cell_type": "code",
   "execution_count": 3,
   "id": "1c4a9d29",
   "metadata": {},
   "outputs": [
    {
     "ename": "ValueError",
     "evalue": "context must be in paper, notebook, talk, poster",
     "output_type": "error",
     "traceback": [
      "\u001b[0;31m---------------------------------------------------------------------------\u001b[0m",
      "\u001b[0;31mValueError\u001b[0m                                Traceback (most recent call last)",
      "Cell \u001b[0;32mIn[3], line 19\u001b[0m\n\u001b[1;32m     15\u001b[0m df[\u001b[38;5;124m'\u001b[39m\u001b[38;5;124mRainfall\u001b[39m\u001b[38;5;124m'\u001b[39m] \u001b[38;5;241m=\u001b[39m df[\u001b[38;5;124m\"\u001b[39m\u001b[38;5;124mRainfall\u001b[39m\u001b[38;5;124m\"\u001b[39m]\u001b[38;5;241m.\u001b[39mastype(\u001b[38;5;28mfloat\u001b[39m)   \n\u001b[1;32m     17\u001b[0m path1 \u001b[38;5;241m=\u001b[39m \u001b[38;5;124m'\u001b[39m\u001b[38;5;124m/var/www/html/trclimate/\u001b[39m\u001b[38;5;124m'\u001b[39m    \n\u001b[0;32m---> 19\u001b[0m \u001b[43msns\u001b[49m\u001b[38;5;241;43m.\u001b[39;49m\u001b[43mset_theme\u001b[49m\u001b[43m(\u001b[49m\u001b[38;5;124;43m\"\u001b[39;49m\u001b[38;5;124;43mdarkgrid\u001b[39;49m\u001b[38;5;124;43m\"\u001b[39;49m\u001b[43m)\u001b[49m\n\u001b[1;32m     20\u001b[0m \u001b[38;5;66;03m#sns.set_style(\"whitegrid\", {'grid.color': 'black'})\u001b[39;00m\n\u001b[1;32m     21\u001b[0m sns\u001b[38;5;241m.\u001b[39mset_style(\u001b[38;5;124m\"\u001b[39m\u001b[38;5;124mdarkgrid\u001b[39m\u001b[38;5;124m\"\u001b[39m, {\u001b[38;5;124m'\u001b[39m\u001b[38;5;124mgrid.color\u001b[39m\u001b[38;5;124m'\u001b[39m: \u001b[38;5;124m'\u001b[39m\u001b[38;5;124mblue\u001b[39m\u001b[38;5;124m'\u001b[39m})\n",
      "File \u001b[0;32m~/anaconda3/lib/python3.10/site-packages/seaborn/rcmod.py:119\u001b[0m, in \u001b[0;36mset_theme\u001b[0;34m(context, style, palette, font, font_scale, color_codes, rc)\u001b[0m\n\u001b[1;32m     82\u001b[0m \u001b[38;5;28;01mdef\u001b[39;00m \u001b[38;5;21mset_theme\u001b[39m(context\u001b[38;5;241m=\u001b[39m\u001b[38;5;124m\"\u001b[39m\u001b[38;5;124mnotebook\u001b[39m\u001b[38;5;124m\"\u001b[39m, style\u001b[38;5;241m=\u001b[39m\u001b[38;5;124m\"\u001b[39m\u001b[38;5;124mdarkgrid\u001b[39m\u001b[38;5;124m\"\u001b[39m, palette\u001b[38;5;241m=\u001b[39m\u001b[38;5;124m\"\u001b[39m\u001b[38;5;124mdeep\u001b[39m\u001b[38;5;124m\"\u001b[39m,\n\u001b[1;32m     83\u001b[0m               font\u001b[38;5;241m=\u001b[39m\u001b[38;5;124m\"\u001b[39m\u001b[38;5;124msans-serif\u001b[39m\u001b[38;5;124m\"\u001b[39m, font_scale\u001b[38;5;241m=\u001b[39m\u001b[38;5;241m1\u001b[39m, color_codes\u001b[38;5;241m=\u001b[39m\u001b[38;5;28;01mTrue\u001b[39;00m, rc\u001b[38;5;241m=\u001b[39m\u001b[38;5;28;01mNone\u001b[39;00m):\n\u001b[1;32m     84\u001b[0m     \u001b[38;5;124;03m\"\"\"\u001b[39;00m\n\u001b[1;32m     85\u001b[0m \u001b[38;5;124;03m    Set aspects of the visual theme for all matplotlib and seaborn plots.\u001b[39;00m\n\u001b[1;32m     86\u001b[0m \n\u001b[0;32m   (...)\u001b[0m\n\u001b[1;32m    117\u001b[0m \n\u001b[1;32m    118\u001b[0m \u001b[38;5;124;03m    \"\"\"\u001b[39;00m\n\u001b[0;32m--> 119\u001b[0m     \u001b[43mset_context\u001b[49m\u001b[43m(\u001b[49m\u001b[43mcontext\u001b[49m\u001b[43m,\u001b[49m\u001b[43m \u001b[49m\u001b[43mfont_scale\u001b[49m\u001b[43m)\u001b[49m\n\u001b[1;32m    120\u001b[0m     set_style(style, rc\u001b[38;5;241m=\u001b[39m{\u001b[38;5;124m\"\u001b[39m\u001b[38;5;124mfont.family\u001b[39m\u001b[38;5;124m\"\u001b[39m: font})\n\u001b[1;32m    121\u001b[0m     set_palette(palette, color_codes\u001b[38;5;241m=\u001b[39mcolor_codes)\n",
      "File \u001b[0;32m~/anaconda3/lib/python3.10/site-packages/seaborn/rcmod.py:469\u001b[0m, in \u001b[0;36mset_context\u001b[0;34m(context, font_scale, rc)\u001b[0m\n\u001b[1;32m    436\u001b[0m \u001b[38;5;28;01mdef\u001b[39;00m \u001b[38;5;21mset_context\u001b[39m(context\u001b[38;5;241m=\u001b[39m\u001b[38;5;28;01mNone\u001b[39;00m, font_scale\u001b[38;5;241m=\u001b[39m\u001b[38;5;241m1\u001b[39m, rc\u001b[38;5;241m=\u001b[39m\u001b[38;5;28;01mNone\u001b[39;00m):\n\u001b[1;32m    437\u001b[0m     \u001b[38;5;124;03m\"\"\"\u001b[39;00m\n\u001b[1;32m    438\u001b[0m \u001b[38;5;124;03m    Set the parameters that control the scaling of plot elements.\u001b[39;00m\n\u001b[1;32m    439\u001b[0m \n\u001b[0;32m   (...)\u001b[0m\n\u001b[1;32m    467\u001b[0m \n\u001b[1;32m    468\u001b[0m \u001b[38;5;124;03m    \"\"\"\u001b[39;00m\n\u001b[0;32m--> 469\u001b[0m     context_object \u001b[38;5;241m=\u001b[39m \u001b[43mplotting_context\u001b[49m\u001b[43m(\u001b[49m\u001b[43mcontext\u001b[49m\u001b[43m,\u001b[49m\u001b[43m \u001b[49m\u001b[43mfont_scale\u001b[49m\u001b[43m,\u001b[49m\u001b[43m \u001b[49m\u001b[43mrc\u001b[49m\u001b[43m)\u001b[49m\n\u001b[1;32m    470\u001b[0m     mpl\u001b[38;5;241m.\u001b[39mrcParams\u001b[38;5;241m.\u001b[39mupdate(context_object)\n",
      "File \u001b[0;32m~/anaconda3/lib/python3.10/site-packages/seaborn/rcmod.py:380\u001b[0m, in \u001b[0;36mplotting_context\u001b[0;34m(context, font_scale, rc)\u001b[0m\n\u001b[1;32m    378\u001b[0m contexts \u001b[38;5;241m=\u001b[39m [\u001b[38;5;124m\"\u001b[39m\u001b[38;5;124mpaper\u001b[39m\u001b[38;5;124m\"\u001b[39m, \u001b[38;5;124m\"\u001b[39m\u001b[38;5;124mnotebook\u001b[39m\u001b[38;5;124m\"\u001b[39m, \u001b[38;5;124m\"\u001b[39m\u001b[38;5;124mtalk\u001b[39m\u001b[38;5;124m\"\u001b[39m, \u001b[38;5;124m\"\u001b[39m\u001b[38;5;124mposter\u001b[39m\u001b[38;5;124m\"\u001b[39m]\n\u001b[1;32m    379\u001b[0m \u001b[38;5;28;01mif\u001b[39;00m context \u001b[38;5;129;01mnot\u001b[39;00m \u001b[38;5;129;01min\u001b[39;00m contexts:\n\u001b[0;32m--> 380\u001b[0m     \u001b[38;5;28;01mraise\u001b[39;00m \u001b[38;5;167;01mValueError\u001b[39;00m(\u001b[38;5;124mf\u001b[39m\u001b[38;5;124m\"\u001b[39m\u001b[38;5;124mcontext must be in \u001b[39m\u001b[38;5;132;01m{\u001b[39;00m\u001b[38;5;124m'\u001b[39m\u001b[38;5;124m, \u001b[39m\u001b[38;5;124m'\u001b[39m\u001b[38;5;241m.\u001b[39mjoin(contexts)\u001b[38;5;132;01m}\u001b[39;00m\u001b[38;5;124m\"\u001b[39m)\n\u001b[1;32m    382\u001b[0m \u001b[38;5;66;03m# Set up dictionary of default parameters\u001b[39;00m\n\u001b[1;32m    383\u001b[0m texts_base_context \u001b[38;5;241m=\u001b[39m {\n\u001b[1;32m    384\u001b[0m \n\u001b[1;32m    385\u001b[0m     \u001b[38;5;124m\"\u001b[39m\u001b[38;5;124mfont.size\u001b[39m\u001b[38;5;124m\"\u001b[39m: \u001b[38;5;241m12\u001b[39m,\n\u001b[0;32m   (...)\u001b[0m\n\u001b[1;32m    392\u001b[0m \n\u001b[1;32m    393\u001b[0m }\n",
      "\u001b[0;31mValueError\u001b[0m: context must be in paper, notebook, talk, poster"
     ]
    }
   ],
   "source": [
    "import pandas as pd\n",
    "import matplotlib.pyplot as plt\n",
    "from pandas import DataFrame, Series\n",
    "import numpy as np\n",
    "import getDays\n",
    "import seaborn as sns\n",
    "\n",
    "sta = ['Davis']\n",
    "\n",
    "for qwe in sta:        \n",
    "       \n",
    "    df['Date'] = df['Date'].astype(int)\n",
    "    df['High'] = df[\"High\"].astype(int)\n",
    "    df['Low'] = df[\"Low\"].astype(int)\n",
    "    df['Rainfall'] = df[\"Rainfall\"].astype(float)   \n",
    "            \n",
    "    path1 = '/var/www/html/trclimate/'    \n",
    "    \n",
    "    sns.set_style(\"darkgrid\", {'grid.color': 'blue'})\n",
    "    plt.figure(figsize=(10, 6))\n",
    "    plt.xlim(1, date)\n",
    "    plt.xticks(fontsize=12)\n",
    "    plt.xlabel('Date', fontsize=12, fontweight ='bold')\n",
    "    plt.yticks(fontsize=12)\n",
    "    sns.barplot(data = df, x = 'Date', y = 'Rainfall', color = 'g', errorbar = None, orient = \"vertical\")\n",
    "    plt.autoscale(enable = True, axis = 'both', tight = True)\n",
    "    plt.grid(True)\n",
    "    plt.ylabel('Rainfall (inches)', fontsize=12, fontweight ='bold')\n",
    "    plt.title(f'{month} {year} Rainfall', fontsize=12, fontweight ='bold')\n",
    "    plt.savefig(f'{path1}Rain_test_{qwe}') \n",
    "    #plt.show()   \n",
    "    "
   ]
  },
  {
   "cell_type": "code",
   "execution_count": null,
   "id": "fa22983f",
   "metadata": {},
   "outputs": [],
   "source": []
  },
  {
   "cell_type": "code",
   "execution_count": null,
   "id": "19521eba",
   "metadata": {},
   "outputs": [],
   "source": []
  }
 ],
 "metadata": {
  "kernelspec": {
   "display_name": "Python 3 (ipykernel)",
   "language": "python",
   "name": "python3"
  },
  "language_info": {
   "codemirror_mode": {
    "name": "ipython",
    "version": 3
   },
   "file_extension": ".py",
   "mimetype": "text/x-python",
   "name": "python",
   "nbconvert_exporter": "python",
   "pygments_lexer": "ipython3",
   "version": "3.10.9"
  }
 },
 "nbformat": 4,
 "nbformat_minor": 5
}
