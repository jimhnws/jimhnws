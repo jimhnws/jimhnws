{
 "cells": [
  {
   "cell_type": "code",
   "execution_count": null,
   "id": "862186e3",
   "metadata": {},
   "outputs": [],
   "source": [
    "import pandas as pd\n",
    "import datetime\n",
    "from datetime import datetime\n",
    "from dateutil.tz import tzutc, tzlocal\n",
    "import pytz\n",
    "\n",
    "#\n",
    "# Read in the CSV file for processing in pandas\n",
    "#\n",
    "\n",
    "path_to_file = '/home/ec2-user/'\n",
    "full_file =(f'{path_to_file}latestTempest1m.csv')\n",
    "df = pd.read_csv(full_file, index_col=False)\n",
    "\n",
    "pd.set_option('display.max_rows', 1440)\n",
    "pd.set_option('display.max_columns', 35)\n",
    "pd.set_option('display.width', 1500)\n",
    "pd.set_option('display.colheader_justify', 'center')\n",
    "pd.set_option('display.precision', 2)\n",
    "\n",
    "latestT = (df['temperature'].iloc[-1]) \n",
    "print(latestT)\n",
    "lastT = round((latestT*1.8) + 32)\n",
    "\n",
    "timezone = pytz.timezone(\"America/New_York\")\n",
    "recentT = (df['timestamp'].iloc[-1])\n",
    "dt_object = datetime.fromtimestamp(recentT)\n",
    "localT = dt_object.astimezone(timezone)\n",
    "lastTime = localT.strftime('%I:%M %p')  \n",
    "time24 = localT.strftime('%-H')  \n",
    "time24 = int(time24)\n",
    "print(time24)\n",
    "\n",
    "print(lastT, lastTime)\n"
   ]
  }
 ],
 "metadata": {
  "kernelspec": {
   "display_name": "Python 3 (ipykernel)",
   "language": "python",
   "name": "python3"
  },
  "language_info": {
   "codemirror_mode": {
    "name": "ipython",
    "version": 3
   },
   "file_extension": ".py",
   "mimetype": "text/x-python",
   "name": "python",
   "nbconvert_exporter": "python",
   "pygments_lexer": "ipython3",
   "version": "3.10.9"
  }
 },
 "nbformat": 4,
 "nbformat_minor": 5
}
