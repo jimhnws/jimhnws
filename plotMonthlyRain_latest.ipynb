{
 "cells": [
  {
   "cell_type": "code",
   "execution_count": null,
   "id": "7d95a8cd",
   "metadata": {},
   "outputs": [],
   "source": [
    "import pandas as pd\n",
    "import matplotlib.pyplot as plt\n",
    "import matplotlib.colors as mcolors\n",
    "import numpy as np\n",
    "import calcTimeNow\n",
    "import getDaysInMonth\n",
    "import getNameNumbers"
   ]
  },
  {
   "cell_type": "code",
   "execution_count": null,
   "id": "05756b0d",
   "metadata": {},
   "outputs": [],
   "source": [
    "path1 = '/var/www/html/000/'\n",
    "\n",
    "sta = ['Tempest', 'Davis']\n",
    "\n",
    "for qwe in sta:\n",
    "\n",
    "    wl = getNameNumbers.tempest_ec2()\n",
    "    xls_filename, xls_fullfile, path_name, date, month_name, year, r = wl[0], wl[1], \\\n",
    "    wl[2], wl[3], wl[4], wl[5], wl[6]\n",
    "    \n",
    "    x_indexes = np.arange(1, r)\n",
    "    height = 0.0\n",
    "    width = 0.25\n",
    "    \n",
    "    wxdata = f'{path_name}{month_name}_{year}_{qwe}.xlsx'\n",
    "    df = pd.read_excel(wxdata, skiprows=[0,1])\n",
    "        \n",
    "    if qwe == 'Tempest':\n",
    "        df = df.drop(df.columns[[1,2,3,4,5,8,9]], axis=1)\n",
    "        df = df.drop(df.index[date:r]) \n",
    "        df['Date'] = df['Date'].astype(int)\n",
    "        plt.bar(df['Date'], df['totR'], color ='red', width = 0.3, label = \"Tabulated\")\n",
    "        plt.bar((df['Date'] + width), df['corR'], color ='green', width = 0.3, label = \"Corrected\")\n",
    "        #plt.bar(df['Date'],df['totR'], color = \"green\", width= 0.6)\n",
    "        \n",
    "    else:\n",
    "        df = df.drop(df.columns[[1,2,3,4,5,7,8,9,10,11,12,13,14]], axis=1)\n",
    "        df = df.drop(df.index[date:r])\n",
    "        df['Date'] = df['Date'].astype(int)\n",
    "        #plt.bar(df['Date']+ width),   color ='green', width = width)    \n",
    "    \n",
    "    plt.figsize = (10,6)\n",
    "    plt.locator_params(axis='x', nbins= r)\n",
    "    plt.tick_params(axis='x', colors='black', direction='out', length=4, width=1)\n",
    "    plt.locator_params(axis='x', nbins= r)\n",
    "    plt.xlim(1, r)\n",
    "    plt.xticks(fontsize=8)\n",
    "    \n",
    "    plt.xlabel('Date', fontsize=12, fontweight ='bold')\n",
    "    plt.ylim(0, None)\n",
    "    plt.grid(axis = \"y\", linewidth = 1.0, color = 'black')\n",
    "    plt.yticks(fontsize=12)\n",
    "    plt.ylabel('Rainfall (inches)', fontsize=12, fontweight ='bold')\n",
    "    plt.legend()\n",
    "    plt.title(f'{month_name} {year} Rainfall - {qwe}', fontsize=12, fontweight ='bold')\n",
    "    plt.savefig(f'{path1}rainfall_{qwe}')"
   ]
  }
 ],
 "metadata": {
  "kernelspec": {
   "display_name": "Python 3 (ipykernel)",
   "language": "python",
   "name": "python3"
  },
  "language_info": {
   "codemirror_mode": {
    "name": "ipython",
    "version": 3
   },
   "file_extension": ".py",
   "mimetype": "text/x-python",
   "name": "python",
   "nbconvert_exporter": "python",
   "pygments_lexer": "ipython3",
   "version": "3.10.9"
  }
 },
 "nbformat": 4,
 "nbformat_minor": 5
}
