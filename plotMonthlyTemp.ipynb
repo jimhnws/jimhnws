{
 "cells": [
  {
   "cell_type": "code",
   "execution_count": 1,
   "id": "15c14a9a",
   "metadata": {},
   "outputs": [
    {
     "ename": "ModuleNotFoundError",
     "evalue": "No module named 'month_days'",
     "output_type": "error",
     "traceback": [
      "\u001b[0;31m---------------------------------------------------------------------------\u001b[0m",
      "\u001b[0;31mModuleNotFoundError\u001b[0m                       Traceback (most recent call last)",
      "Cell \u001b[0;32mIn[1], line 8\u001b[0m\n\u001b[1;32m      6\u001b[0m \u001b[38;5;28;01mfrom\u001b[39;00m \u001b[38;5;21;01mscipy\u001b[39;00m\u001b[38;5;21;01m.\u001b[39;00m\u001b[38;5;21;01minterpolate\u001b[39;00m \u001b[38;5;28;01mimport\u001b[39;00m make_interp_spline\n\u001b[1;32m      7\u001b[0m \u001b[38;5;28;01mimport\u001b[39;00m \u001b[38;5;21;01mcalcTimeNow\u001b[39;00m\n\u001b[0;32m----> 8\u001b[0m \u001b[38;5;28;01mimport\u001b[39;00m \u001b[38;5;21;01mmonth_days\u001b[39;00m\n",
      "\u001b[0;31mModuleNotFoundError\u001b[0m: No module named 'month_days'"
     ]
    }
   ],
   "source": [
    "import pandas as pd\n",
    "import matplotlib.pyplot as plt\n",
    "import matplotlib.colors as mcolors\n",
    "import numpy as np\n",
    "import numpy as np\n",
    "from scipy.interpolate import make_interp_spline\n",
    "import calcTimeNow\n",
    "import month_Days"
   ]
  },
  {
   "cell_type": "code",
   "execution_count": 1,
   "id": "a77a4c5e",
   "metadata": {},
   "outputs": [
    {
     "ename": "NameError",
     "evalue": "name 'calcTimeNow' is not defined",
     "output_type": "error",
     "traceback": [
      "\u001b[0;31m---------------------------------------------------------------------------\u001b[0m",
      "\u001b[0;31mNameError\u001b[0m                                 Traceback (most recent call last)",
      "Cell \u001b[0;32mIn[1], line 12\u001b[0m\n\u001b[1;32m      8\u001b[0m sta \u001b[38;5;241m=\u001b[39m [\u001b[38;5;124m'\u001b[39m\u001b[38;5;124mDavis\u001b[39m\u001b[38;5;124m'\u001b[39m, \u001b[38;5;124m'\u001b[39m\u001b[38;5;124mTempest\u001b[39m\u001b[38;5;124m'\u001b[39m]\n\u001b[1;32m     10\u001b[0m \u001b[38;5;28;01mfor\u001b[39;00m qwe \u001b[38;5;129;01min\u001b[39;00m sta:\n\u001b[0;32m---> 12\u001b[0m     x \u001b[38;5;241m=\u001b[39m \u001b[43mcalcTimeNow\u001b[49m\u001b[38;5;241m.\u001b[39mcalcTimeNow()\n\u001b[1;32m     13\u001b[0m     month_name, year, date \u001b[38;5;241m=\u001b[39m x[\u001b[38;5;241m1\u001b[39m], x[\u001b[38;5;241m2\u001b[39m],x[\u001b[38;5;241m3\u001b[39m]\n\u001b[1;32m     14\u001b[0m     year \u001b[38;5;241m=\u001b[39m \u001b[38;5;28mint\u001b[39m(year)\n",
      "\u001b[0;31mNameError\u001b[0m: name 'calcTimeNow' is not defined"
     ]
    }
   ],
   "source": [
    "#\n",
    "# Make some graphs - temperature line plots first\n",
    "# For just one month\n",
    "#\n",
    "\n",
    "# Determine the date\n",
    "\n",
    "sta = ['Davis', 'Tempest']\n",
    "\n",
    "for qwe in sta:\n",
    "\n",
    "    x = calcTimeNow.calcTimeNow()\n",
    "    month_name, year, date = x[1], x[2],x[3]\n",
    "    year = int(year)\n",
    "    date =  int(date)\n",
    "    date = date - 1\n",
    "    print(date)\n",
    "\n",
    "    # figure out the month number\n",
    "    months = ['January','February', 'March','April','May','June','July','August','September','October','November','December']\n",
    "\n",
    "    if (year % 400 == 0):\n",
    "        leap_year = True\n",
    "    elif (year % 100 == 0):\n",
    "        leap_year = False\n",
    "    elif (year % 4 == 0):\n",
    "        leap_year = True\n",
    "    else:\n",
    "        leap_year = False\n",
    "\n",
    "    for monther in months:\n",
    "    \n",
    "        month31 = ['January','March', 'May', 'July', 'August', 'October', 'December']\n",
    "        month30 = ['April', 'June', 'September', 'November']\n",
    "        month28 = ['February']\n",
    " \n",
    "        if monther in month31:\n",
    "            r = 31\n",
    "        elif monther in month30:\n",
    "            r = 30 \n",
    "        elif monther in month28:\n",
    "            if leap_year:\n",
    "                r = 29\n",
    "            else:\n",
    "                r = 28\n",
    "        else:\n",
    "            r = 31\n",
    "\n",
    "    print(date,r)\n",
    "    path = '/home/ec2-user/'\n",
    "    wxdata = f'{path}{month_name}_{year}_{qwe}.xlsx'\n",
    "    df = pd.read_excel(wxdata, skiprows=[0,1])\n",
    "    if sta == 'Davis':\n",
    "        df = df.drop(df.columns[[3,4,5,6,7,8,9,10,11,12,14,14]], axis=1)\n",
    "    else:\n",
    "        df = df.drop(df.columns[[3,4,5,6,7,8,9]], axis=1)\n",
    "       \n",
    "    df = df.drop(df.index[date:r])\n",
    "\n",
    "    HI = df['High']\n",
    "    LO = df[\"Low\"]\n",
    "    DATE = df[\"Date\"]\n",
    "\n",
    "    y = HI.to_numpy()\n",
    "    y1 = LO.to_numpy()\n",
    "    x = DATE.to_numpy()\n",
    "\n",
    "\n",
    "    #define x as 200 equally spaced values between the min and max of original x \n",
    "    xnew = np.linspace(x.min(), x.max(), 200) \n",
    "\n",
    "    #define spline\n",
    "    HIspl = make_interp_spline(x, y, k=2)\n",
    "    y_smooth = HIspl(xnew)\n",
    "    LOspl = make_interp_spline(x, y1, k=2)\n",
    "    y1_smooth = LOspl(xnew)\n",
    "\n",
    "\n",
    "    path1 = '/var/www/html/000/'\n",
    "    plt.figure(figsize= (10,6))\n",
    "    plt.locator_params(axis='x', nbins= r)\n",
    "    plt.xlim(1, date)\n",
    "    plt.ylim(-15, 105)\n",
    "    plt.xticks(fontsize=12)\n",
    "    plt.xlabel('Date', fontsize=12, fontweight ='bold')\n",
    "    plt.yticks(fontsize=12)\n",
    "    plt.ylabel('Temperature (F)', fontsize=12, fontweight ='bold')\n",
    "    plt.locator_params(axis='y', nbins=20)\n",
    "    plt.title(f'{month_name} {year} Temperatures - {qwe}', fontsize=12, fontweight ='bold')\n",
    "    plt.grid(axis = \"y\", linewidth = 2.0, color = 'black')\n",
    "    plt.plot(xnew,y_smooth,color = \"red\", linewidth =3, label =\"High\")\n",
    "    plt.plot(xnew,y1_smooth,color = \"blue\", linewidth =3, label =\"Low\")\n",
    "    plt.legend(fontsize=12)\n",
    "    plt.savefig(f'{path1}temps_{qwe}')"
   ]
  },
  {
   "cell_type": "code",
   "execution_count": null,
   "id": "21aafac3",
   "metadata": {},
   "outputs": [],
   "source": []
  }
 ],
 "metadata": {
  "kernelspec": {
   "display_name": "Python 3 (ipykernel)",
   "language": "python",
   "name": "python3"
  },
  "language_info": {
   "codemirror_mode": {
    "name": "ipython",
    "version": 3
   },
   "file_extension": ".py",
   "mimetype": "text/x-python",
   "name": "python",
   "nbconvert_exporter": "python",
   "pygments_lexer": "ipython3",
   "version": "3.10.9"
  }
 },
 "nbformat": 4,
 "nbformat_minor": 5
}
