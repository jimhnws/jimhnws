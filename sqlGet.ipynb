{
 "cells": [
  {
   "cell_type": "code",
   "execution_count": 3,
   "id": "7162f8ce",
   "metadata": {},
   "outputs": [],
   "source": [
    "import datetime\n",
    "from datetime import timedelta\n",
    "from datetime import date\n",
    "import month_Days\n",
    "\n",
    "def sqlGet():\n",
    "    \n",
    "    # Getting today's date and create variables based on it\n",
    "\n",
    "    # Today\n",
    "    today = date.today()\n",
    "    todayDate = datetime.date.today()\n",
    "    yesterday = today - timedelta(days = 1)\n",
    "\n",
    "    todayDay = today.strftime(\"%d\")\n",
    "    todayDay = int(todayDay)\n",
    "    \n",
    "    # Present month\n",
    "    this_month = (todayDate.strftime(\"%B\"))\n",
    "    this_month_num = (todayDate.strftime(\"%m\"))\n",
    "    this_month_num = int(this_month_num)\n",
    "        \n",
    "    # Current year\n",
    "    thisYear = (todayDate.strftime(\"%Y\"))\n",
    "        \n",
    "    # previous information for today\n",
    "    lastDaythisMonth = month_Days.days_in_month(thisYear,this_month_num)\n",
    "        \n",
    "    # Yesterday\n",
    "    yesterdayDay = yesterday.strftime(\"%d\")\n",
    "    yesterdayDay = int(yesterdayDay)\n",
    "    date1 = yesterdayDay + 1\n",
    "    \n",
    "    # Previous month\n",
    "    last_month = todayDate.replace(day=1) - datetime.timedelta(days=1)\n",
    "    prev_month = (last_month.strftime(\"%B\"))\n",
    "    prev_month_num = (last_month.strftime(\"%m\"))\n",
    "    prev_month_num = int(prev_month_num)\n",
    "        \n",
    "    # Previous year\n",
    "    prev_year = todayDate.replace(day=1) - datetime.timedelta(days=365)\n",
    "    prevYear = prev_year.strftime(\"%Y\")\n",
    "        \n",
    "    # previous information for yesterday\n",
    "    lastDaylastMonth = month_Days.days_in_month(thisYear,prev_month_num)\n",
    "        \n",
    "    # Last day of the previous month\n",
    "    lastDaylastMonth = month_Days.days_in_month(thisYear,prev_month_num)\n",
    "   \n",
    "    # Last day of the previous year\n",
    "    lastDaypreviousYear = month_Days.days_in_month(prevYear,12)\n",
    "    \n",
    "    # Calculate/assign some needd variables\n",
    "    path_name = '/home/ec2-user/'\n",
    "    platform = \"Tempest\"\n",
    "    xls_suffix = '.xlsx'\n",
    "    \n",
    "    if todayDay == 1:\n",
    "        xls_filename = f'{prev_month}_{thisYear}_{platform}{xls_suffix}'\n",
    "        xls_fullname = f'{path_name}{prev_month}_{thisYear}_{platform}{xls_suffix}'\n",
    "        print(xls_fullname)\n",
    "        return(xls_filename, xls_fullname, path_name, date1, prev_month, prev_month_num, thisYear, lastDaylastMonth)\n",
    "    \n",
    "    if todayDay == 1 and this_month == 'January':\n",
    "        xls_filename = f'December_{prevYear}_{platform}{xls_suffix}'\n",
    "        xls_fullname = f'{path_name}December_{prevYear}_{platform}{xls_suffix}'\n",
    "        return(xls_filename, xls_fullfile, path_name, date1, prev_month, prev_month_num, prevYear, lastDayprevYear)\n",
    "        \n",
    "    else:\n",
    "        xls_filename = f'{this_month}_{thisYear}_{platform}{xls_suffix}'\n",
    "        xls_fullfile = f'{path_name}{this_month}_{thisYear}_{platform}{xls_suffix}'\n",
    "    \n",
    "        return(xls_filename, xls_fullfile, path_name, todayDay, yesterdayDay, this_month, this_month_num, thisYear, lastDaythisMonth)   \n",
    "    "
   ]
  },
  {
   "cell_type": "code",
   "execution_count": 2,
   "id": "6b4ba1a8",
   "metadata": {},
   "outputs": [
    {
     "name": "stdout",
     "output_type": "stream",
     "text": [
      "Today is:  2023-09-21\n",
      "The day of the month is:  21 \n",
      "\n",
      "This month is : September\n",
      "This year is:  2023\n",
      "Number of days this month:  30 \n",
      "\n",
      "Yesterday was:  2023-09-20\n",
      "21\n",
      "The day of the month yesterday was:  20 \n",
      "\n",
      "Last month was:  August\n",
      "Last year was:  2022 \n",
      "\n",
      "Number of days last month:  31 \n",
      "\n",
      "Last day of the previous month:  31\n",
      "Last day of the previous year:  31 \n",
      "\n"
     ]
    },
    {
     "data": {
      "text/plain": [
       "('September_2023_Tempest.xlsx',\n",
       " '/home/ec2-user/September_2023_Tempest.xlsx',\n",
       " '/home/ec2-user/',\n",
       " 21,\n",
       " 20,\n",
       " 'September',\n",
       " 9,\n",
       " '2023',\n",
       " 30)"
      ]
     },
     "execution_count": 2,
     "metadata": {},
     "output_type": "execute_result"
    }
   ],
   "source": [
    "sqlGet()"
   ]
  },
  {
   "cell_type": "code",
   "execution_count": null,
   "id": "805c302f",
   "metadata": {},
   "outputs": [],
   "source": []
  }
 ],
 "metadata": {
  "kernelspec": {
   "display_name": "Python 3 (ipykernel)",
   "language": "python",
   "name": "python3"
  },
  "language_info": {
   "codemirror_mode": {
    "name": "ipython",
    "version": 3
   },
   "file_extension": ".py",
   "mimetype": "text/x-python",
   "name": "python",
   "nbconvert_exporter": "python",
   "pygments_lexer": "ipython3",
   "version": "3.10.9"
  }
 },
 "nbformat": 4,
 "nbformat_minor": 5
}
