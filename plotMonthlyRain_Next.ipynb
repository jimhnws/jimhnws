{
 "cells": [
  {
   "cell_type": "code",
   "execution_count": 1,
   "id": "a7e04aa7",
   "metadata": {},
   "outputs": [],
   "source": [
    "import pandas as pd\n",
    "import matplotlib.pyplot as plt\n",
    "import matplotlib.colors as mcolors\n",
    "import numpy as np\n",
    "import calcTimeNow\n",
    "import getDaysInMonth"
   ]
  },
  {
   "cell_type": "code",
   "execution_count": 1,
   "id": "c763768f",
   "metadata": {},
   "outputs": [
    {
     "ename": "NameError",
     "evalue": "name 'calcTimeNow' is not defined",
     "output_type": "error",
     "traceback": [
      "\u001b[0;31m---------------------------------------------------------------------------\u001b[0m",
      "\u001b[0;31mNameError\u001b[0m                                 Traceback (most recent call last)",
      "Cell \u001b[0;32mIn[1], line 10\u001b[0m\n\u001b[1;32m      6\u001b[0m sta \u001b[38;5;241m=\u001b[39m [\u001b[38;5;124m'\u001b[39m\u001b[38;5;124mTempest\u001b[39m\u001b[38;5;124m'\u001b[39m, \u001b[38;5;124m'\u001b[39m\u001b[38;5;124mDavis\u001b[39m\u001b[38;5;124m'\u001b[39m]\n\u001b[1;32m      8\u001b[0m \u001b[38;5;28;01mfor\u001b[39;00m qwe \u001b[38;5;129;01min\u001b[39;00m sta:\n\u001b[0;32m---> 10\u001b[0m     xr \u001b[38;5;241m=\u001b[39m \u001b[43mcalcTimeNow\u001b[49m\u001b[38;5;241m.\u001b[39mcalcTimeNow()\n\u001b[1;32m     11\u001b[0m     month_name \u001b[38;5;241m=\u001b[39m calcTimeNow\u001b[38;5;241m.\u001b[39mcalcMonthNow()\n\u001b[1;32m     12\u001b[0m     year, date \u001b[38;5;241m=\u001b[39m xr[\u001b[38;5;241m2\u001b[39m],xr[\u001b[38;5;241m3\u001b[39m]\n",
      "\u001b[0;31mNameError\u001b[0m: name 'calcTimeNow' is not defined"
     ]
    }
   ],
   "source": [
    "# Determine the date\n",
    "\n",
    "path = '/home/ec2-user/'\n",
    "path1 = '/var/www/html/000/'\n",
    "\n",
    "sta = ['Tempest', 'Davis']\n",
    "\n",
    "for qwe in sta:\n",
    "\n",
    "    xr = calcTimeNow.calcTimeNow()\n",
    "    month_name = calcTimeNow.calcMonthNow()\n",
    "    year, date = xr[2],xr[3]\n",
    "    year = int(year)\n",
    "    date =  int(date)\n",
    "    date = date - 1\n",
    "    \n",
    "    r = getDaysInMonth.getDaysInMonth()\n",
    "    x_indexes = np.arange(1, r)\n",
    "    height = 0.0\n",
    "    width = 0.25\n",
    "    \n",
    "    wxdata = f'{path}{month_name}_{year}_{qwe}.xlsx'\n",
    "    df = pd.read_excel(wxdata, skiprows=[0,1])\n",
    "        \n",
    "    if qwe == 'Tempest':\n",
    "        df = df.drop(df.columns[[1,2,3,4,5,8,9]], axis=1)\n",
    "        df = df.drop(df.index[date:r]) \n",
    "        df['Date'] = df['Date'].astype(int)\n",
    "        plt.bar(df['Date'], df['totR'], color ='red', width = 0.3, label = \"Tabulated\")\n",
    "        plt.bar((df['Date'] + width), df['corR'], color ='green', width = 0.3, label = \"Corrected\")\n",
    "        \n",
    "        \n",
    "    else:\n",
    "        df = df.drop(df.columns[[1,2,3,4,5,7,8,9,10,11,12,13,14]], axis=1)\n",
    "        df = df.drop(df.index[date:r])\n",
    "        df['Date'] = df['Date'].astype(int)\n",
    "        #plt.bar(df['Date']+ width),   color ='green', width = width)    \n",
    "    \n",
    "    plt.figsize = (10,6)\n",
    "    plt.locator_params(axis='x', nbins= r)\n",
    "    plt.tick_params(axis='x', colors='black', direction='out', length=4, width=1)\n",
    "    plt.locator_params(axis='x', nbins= r)\n",
    "    plt.xlim(1, r)\n",
    "    plt.xticks(fontsize=8)\n",
    "    \n",
    "    plt.xlabel('Date', fontsize=12, fontweight ='bold')\n",
    "    plt.ylim(0, None)\n",
    "    plt.grid(axis = \"y\", linewidth = 1.0, color = 'black')\n",
    "    plt.yticks(fontsize=12)\n",
    "    plt.ylabel('Rainfall (inches)', fontsize=12, fontweight ='bold')\n",
    "    plt.legend()\n",
    "    plt.title(f'{month_name} {year} Rainfall - {qwe}', fontsize=12, fontweight ='bold')\n",
    "    plt.savefig(f'{path1}rainfall_{qwe}')    "
   ]
  },
  {
   "cell_type": "code",
   "execution_count": null,
   "id": "3120f338",
   "metadata": {},
   "outputs": [],
   "source": []
  }
 ],
 "metadata": {
  "kernelspec": {
   "display_name": "Python 3 (ipykernel)",
   "language": "python",
   "name": "python3"
  },
  "language_info": {
   "codemirror_mode": {
    "name": "ipython",
    "version": 3
   },
   "file_extension": ".py",
   "mimetype": "text/x-python",
   "name": "python",
   "nbconvert_exporter": "python",
   "pygments_lexer": "ipython3",
   "version": "3.10.9"
  }
 },
 "nbformat": 4,
 "nbformat_minor": 5
}
