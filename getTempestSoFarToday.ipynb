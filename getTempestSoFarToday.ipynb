{
 "cells": [
  {
   "cell_type": "code",
   "execution_count": 30,
   "metadata": {},
   "outputs": [],
   "source": [
    "import json\n",
    "import urllib\n",
    "import requests\n",
    "import csv\n",
    "import re\n",
    "import calcTimeStamp\n",
    "\n",
    "# Calculate the time and date for calucaltions so far\n",
    "\n",
    "xy = calcTimeStamp.calcTimeStamp()\n",
    "start, end = (xy[0], xy[1])\n",
    "start = str(start)\n",
    "end = str(end)"
   ]
  },
  {
   "cell_type": "code",
   "execution_count": 31,
   "metadata": {},
   "outputs": [
    {
     "name": "stdout",
     "output_type": "stream",
     "text": [
      "https://swd.weatherflow.com/swd/rest/observations/device/246921?time_start=1679803200&time_end=1679877215&format=csv&token=877f6425-04a5-4f33-86e7-7123b7ef53d9\n"
     ]
    }
   ],
   "source": [
    "import datetime\n",
    "from datetime import datetime\n",
    "import dataFile\n",
    "\n",
    "#\n",
    "# Get data from the Tempest database for the new station\n",
    "#\n",
    "\n",
    "token = '877f6425-04a5-4f33-86e7-7123b7ef53d9'\n",
    "protocol = 'https://'\n",
    "urlSiteDevice = 'swd.weatherflow.com/swd/rest/observations/device/'\n",
    "urlSiteStation = 'swd.weatherflow.com/swd/rest/observations/station/'\n",
    "deviceID = '246921'\n",
    "stationID = '95775'\n",
    "preToken = '&token='\n",
    "preStart = '?time_start='\n",
    "preEnd = '&time_end='\n",
    "start_time = start\n",
    "end_time = end\n",
    "dayOffset = '&day_offset=1'\n",
    "format1 = '&format=csv'\n",
    "\n",
    "#\n",
    "# Put it together\n",
    "# \n",
    "\n",
    "goGetDeviceSummary = (f'{protocol}{urlSiteDevice}{deviceID}{preStart}{start_time}{preEnd}{end_time}{format1}{preToken}{token}')\n",
    "print(goGetDeviceSummary)\n",
    "r =  requests.get(goGetDeviceSummary)\n",
    "full_file = dataFile.dataFile_mac()\n",
    "\n",
    "with open(full_file,'w') as fd:\n",
    "     fd.write(r.text)"
   ]
  },
  {
   "cell_type": "code",
   "execution_count": 32,
   "metadata": {},
   "outputs": [],
   "source": [
    "import pandas as pd\n",
    "import dataFile\n",
    "\n",
    "#\n",
    "# Read in the CSV file for processing in pandas\n",
    "#\n",
    "\n",
    "full_file = dataFile.dataFile_mac()\n",
    "df = pd.read_csv(full_file, index_col=False)\n",
    "\n",
    "pd.set_option('display.max_rows', 1440)\n",
    "pd.set_option('display.max_columns', 35)\n",
    "pd.set_option('display.width', 1500)\n",
    "pd.set_option('display.colheader_justify', 'center')\n",
    "pd.set_option('display.precision', 2)\n",
    "\n",
    "max_temp  = (df.sort_values(by='temperature', ascending=False))\n",
    "max_T = max_temp.iloc[:1]\n",
    "maxT = max_T['temperature'].values[0]\n",
    "maxT = round((maxT*1.8) + 32)\n",
    "\n",
    "min_temp  = (df.sort_values(by='temperature', ascending=True))\n",
    "min_T = min_temp.iloc[:1]\n",
    "minT = min_T['temperature'].values[0]\n",
    "minT = round((minT*1.8) + 32)\n",
    "\n",
    "tot_rain = df['precip'].sum()\n",
    "totR = round((tot_rain*0.03937), 2)\n",
    "nc_Rain = df['local_daily_precip_final'].iloc[-1]\n",
    "ncR = round((nc_Rain*0.03937), 2)\n",
    "\n",
    "recentT = (df['timestamp'].iloc[-1])\n",
    "dt_object = datetime.fromtimestamp(recentT)\n",
    "dt_object = str(dt_object)\n",
    "datetime_obj = datetime.strptime(dt_object, '%Y-%m-%d %H:%M:%S')\n",
    "lastTime = datetime_obj.strftime('%I:%M %p')\n",
    "\n",
    "# write the data to a csv file with an html suffix\n",
    "\n",
    "with open('/Users/jameshayes/HiLoRain_tempest.csv', 'w') as outfile:\n",
    "    print(f'{maxT},{minT},{totR},{ncR},{lastTime}',file = outfile)"
   ]
  },
  {
   "cell_type": "code",
   "execution_count": null,
   "metadata": {},
   "outputs": [],
   "source": []
  },
  {
   "cell_type": "code",
   "execution_count": null,
   "metadata": {},
   "outputs": [],
   "source": []
  },
  {
   "cell_type": "code",
   "execution_count": null,
   "metadata": {},
   "outputs": [],
   "source": []
  }
 ],
 "metadata": {
  "kernelspec": {
   "display_name": "Python 3 (ipykernel)",
   "language": "python",
   "name": "python3"
  },
  "language_info": {
   "codemirror_mode": {
    "name": "ipython",
    "version": 3
   },
   "file_extension": ".py",
   "mimetype": "text/x-python",
   "name": "python",
   "nbconvert_exporter": "python",
   "pygments_lexer": "ipython3",
   "version": "3.10.9"
  }
 },
 "nbformat": 4,
 "nbformat_minor": 4
}
