{
 "cells": [
  {
   "cell_type": "code",
   "execution_count": 20,
   "id": "ead54ae5",
   "metadata": {},
   "outputs": [],
   "source": [
    "import numpy as np\n",
    "import matplotlib.pyplot as plt\n",
    "import pandas as pd\n",
    "from pandas import DataFrame, Series\n",
    "import pymysql as dbapi\n",
    "import sys\n",
    "import csv\n",
    "from tabulate import tabulate\n",
    "import sqlGet\n",
    "\n",
    "def sandbox2():  \n",
    "        \n",
    "    gD = sqlGet.sqlGet()\n",
    "    nextDay, date, month, month_num, year = gD[3], gD[4], gD[5], gD[6], gD[7]\n",
    "    print(nextDay, date, month, month_num, year)\n",
    "\n",
    "    #\n",
    "    # Get normal highs and lows\n",
    "    #\n",
    "\n",
    "    QUERY = \"\"\"SELECT * FROM avgHiLo \n",
    "               WHERE Month = %s \n",
    "               AND Day = %s\"\"\" % (month_num, date)\n",
    "\n",
    "\n",
    "    db = dbapi.connect(host='3.135.162.69',user='chuckwx',passwd='jfr716!!00', database = 'trweather')\n",
    "\n",
    "    cur = db.cursor()\n",
    "    cur.execute(QUERY)\n",
    "    result = cur.fetchall()\n",
    "\n",
    "    dataset = result[0]\n",
    "    nmlHi = int(dataset[3])\n",
    "    nmlLo = int(dataset[4])\n",
    "\n",
    "    #\n",
    "    # Get the record high for the date\n",
    "    #\n",
    "\n",
    "    QUERY1 = \"\"\"SELECT * FROM recHigh \n",
    "               WHERE Month = %s \n",
    "               AND Day = %s\"\"\" % (month_num, nextDay)\n",
    "\n",
    "\n",
    "    db = dbapi.connect(host='3.135.162.69',user='chuckwx',passwd='jfr716!!00', database = 'trweather')\n",
    "\n",
    "    cur = db.cursor()\n",
    "    cur.execute(QUERY1)\n",
    "    result1 = cur.fetchall()\n",
    "    recordHigh = result1[0]\n",
    "    recHigh = int(recordHigh[1])\n",
    "    recHighYear = int(recordHigh[4])\n",
    "\n",
    "    #\n",
    "    # Get the record low for the date\n",
    "    #\n",
    "\n",
    "    QUERY2 = \"\"\"SELECT * FROM recLow \n",
    "               WHERE Month = %s \n",
    "               AND Day = %s\"\"\" % (month_num, nextDay)\n",
    "\n",
    "\n",
    "    db = dbapi.connect(host='3.135.162.69',user='chuckwx',passwd='jfr716!!00', database = 'trweather')\n",
    "\n",
    "    cur = db.cursor()\n",
    "    cur.execute(QUERY2)\n",
    "    result2 = cur.fetchall()\n",
    "    recYearNum =  len(result2)\n",
    "    recordLow = result2[0]\n",
    "    recLow = int(recordLow[1])\n",
    "    recLowYear = int(recordLow[4])\n",
    "\n",
    "    #\n",
    "    # Get the record rainfall for the date\n",
    "    #\n",
    "    \n",
    "    QUERY3 = \"\"\"SELECT * FROM recRain \n",
    "               WHERE Month = %s \n",
    "               AND Day = %s\"\"\" % (month_num, nextDay)\n",
    "\n",
    "\n",
    "    db = dbapi.connect(host='3.135.162.69',user='chuckwx',passwd='jfr716!!00', database = 'trweather')\n",
    "\n",
    "    cur = db.cursor()\n",
    "    cur.execute(QUERY3)\n",
    "    result3 = cur.fetchall()\n",
    "    recYearNum =  len(result3)\n",
    "    recordRain = result3[0]\n",
    "    recRain = float(recordRain[1])\n",
    "    recRainYear = int(recordRain[4])\n",
    "\n",
    "    return(result1,result2, result3)"
   ]
  },
  {
   "cell_type": "code",
   "execution_count": 21,
   "id": "dfd26e1d",
   "metadata": {},
   "outputs": [
    {
     "name": "stdout",
     "output_type": "stream",
     "text": [
      "30 29 September 9 2023\n"
     ]
    },
    {
     "data": {
      "text/plain": [
       "(((308, 89.0, 9.0, 30.0, 1986.0),),\n",
       " ((322, 38, 9, 30, 1992),),\n",
       " ((275, 1.71, 9, 30, 2016),))"
      ]
     },
     "execution_count": 21,
     "metadata": {},
     "output_type": "execute_result"
    }
   ],
   "source": [
    "sandbox2()"
   ]
  },
  {
   "cell_type": "code",
   "execution_count": null,
   "id": "f3680cba",
   "metadata": {},
   "outputs": [],
   "source": []
  }
 ],
 "metadata": {
  "kernelspec": {
   "display_name": "Python 3 (ipykernel)",
   "language": "python",
   "name": "python3"
  },
  "language_info": {
   "codemirror_mode": {
    "name": "ipython",
    "version": 3
   },
   "file_extension": ".py",
   "mimetype": "text/x-python",
   "name": "python",
   "nbconvert_exporter": "python",
   "pygments_lexer": "ipython3",
   "version": "3.10.9"
  }
 },
 "nbformat": 4,
 "nbformat_minor": 5
}
