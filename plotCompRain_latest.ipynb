{
 "cells": [
  {
   "cell_type": "code",
   "execution_count": null,
   "id": "3f7efa90",
   "metadata": {},
   "outputs": [],
   "source": [
    "import pandas as pd\n",
    "import matplotlib.pyplot as plt\n",
    "import matplotlib.colors as mcolors\n",
    "import numpy as np\n",
    "import calcTimeNow\n",
    "import getDaysInMonth\n",
    "import getNameNumbers"
   ]
  },
  {
   "cell_type": "code",
   "execution_count": null,
   "id": "317327d9",
   "metadata": {},
   "outputs": [],
   "source": [
    "path1 = '/var/www/html/000/'\n",
    "\n",
    "sta = ['Tempest', 'Davis']\n",
    "\n",
    "wl = getNameNumbers.tempest_ec2()\n",
    "xls_filename, xls_fullfile, path_name, date, month_name, year, r = wl[0], wl[1], \\\n",
    "wl[2], wl[3], wl[4], wl[5], wl[6]\n",
    "    \n",
    "x_indexes = np.arange(1, r)\n",
    "height = 0.0\n",
    "width = 0.25\n",
    "                \n",
    "wxdata1 = f'{path_name}{month_name}_{year}_Tempest.xlsx'\n",
    "wxdata = f'{path_name}{month_name}_{year}_Davis.xlsx'\n",
    "\n",
    "df = pd.read_excel(wxdata1, skiprows=[0,1])\n",
    "df = df.drop(df.columns[[1,2,3,4,5,6,8,9]], axis=1)\n",
    "df = df.drop(df.index[date:r]) \n",
    "\n",
    "df1 = pd.read_excel(wxdata, skiprows=[0,1])\n",
    "df1 = df1.drop(df1.columns[[1,2,3,4,5,7,8,9,10,11,12,13,14]], axis=1)\n",
    "df1 = df1.drop(df1.index[date:r])              \n",
    "\n",
    "df2 = pd.merge(df,df1, on='Date')\n",
    "df2['Date'] = df2['Date'].astype(int)\n",
    "        \n",
    "plt.bar(df['Date'], df['corR'], color ='red', width = 0.3, label = \"Tempest Corrected\")\n",
    "plt.bar((df1['Date'] + width), df1['Rainfall'], color ='green', width = 0.3, label = \"Davis\")  \n",
    "        \n",
    "plt.figsize = (10,6)\n",
    "plt.locator_params(axis='x', nbins= r)\n",
    "plt.tick_params(axis='x', colors='black', direction='out', length=4, width=1)\n",
    "plt.locator_params(axis='x', nbins= r)\n",
    "plt.xlim(1, r)\n",
    "plt.xticks(fontsize=8)\n",
    "    \n",
    "plt.xlabel('Date', fontsize=12, fontweight ='bold')\n",
    "plt.ylim(0, None)\n",
    "plt.grid(axis = \"y\", linewidth = 1.0, color = 'black')\n",
    "plt.yticks(fontsize=12)\n",
    "plt.ylabel('Rainfall (inches)', fontsize=12, fontweight ='bold')\n",
    "plt.legend()\n",
    "plt.title(f'{month_name} {year} Rainfall - Davis vs Tempest', fontsize=12, fontweight ='bold')\n",
    "plt.savefig(f'{path1}rainfall_DavisTempest') "
   ]
  }
 ],
 "metadata": {
  "kernelspec": {
   "display_name": "Python 3 (ipykernel)",
   "language": "python",
   "name": "python3"
  },
  "language_info": {
   "codemirror_mode": {
    "name": "ipython",
    "version": 3
   },
   "file_extension": ".py",
   "mimetype": "text/x-python",
   "name": "python",
   "nbconvert_exporter": "python",
   "pygments_lexer": "ipython3",
   "version": "3.10.9"
  }
 },
 "nbformat": 4,
 "nbformat_minor": 5
}
