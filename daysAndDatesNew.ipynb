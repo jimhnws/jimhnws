{
 "cells": [
  {
   "cell_type": "code",
   "execution_count": 13,
   "id": "b67cdd5f",
   "metadata": {},
   "outputs": [],
   "source": [
    "from datetime import datetime, timedelta\n",
    "import calcOneDay\n",
    "import getDays\n",
    "import calendar\n",
    "\n",
    "def daysAndDatesNew():\n",
    "\n",
    "    # Calculate the time and date for end of day calculations\n",
    "\n",
    "    xy = calcOneDay.calcOneDay()\n",
    "    start, end = (xy[0], xy[1])\n",
    "\n",
    "    todayInfo = getDays.getToday()\n",
    "    day = int(todayInfo[2])\n",
    "    yesterdayInfo = getDays.getYesterday()\n",
    "    tomorrowInfo = getDays.getTomorrow()  \n",
    "    \n",
    "                \n",
    "    if day == 1:\n",
    "        yesterday = int(yesterdayInfo[2])\n",
    "        nextDay = (int(tomorrowInfo[2]))\n",
    "        month, month_num, date, year = yesterdayInfo[0], yesterdayInfo[1], yesterdayInfo[2], yesterdayInfo[3]\n",
    "        month_num1 = int(month_num)\n",
    "        nextMonth_num = month_num1 + 1\n",
    "        nextMonth = (calendar.month_name[nextMonth_num])\n",
    "        print(month, month_num, date, year, yesterday, nextDay,nextMonth)        \n",
    "        \n",
    "        return(month, month_num, date, year, yesterday, nextDay, nextMonth)             \n",
    "            \n",
    "    else:\n",
    "        yesterday = int(yesterdayInfo[2])\n",
    "        nextDay = int(tomorrowInfo[2])\n",
    "        month, month_num, date, year = todayInfo[0], todayInfo[1], todayInfo[2], todayInfo[3]   \n",
    "              \n",
    "        return(month, month_num, date, year, yesterday, nextDay)"
   ]
  },
  {
   "cell_type": "code",
   "execution_count": 14,
   "id": "be74a2d2",
   "metadata": {},
   "outputs": [
    {
     "name": "stdout",
     "output_type": "stream",
     "text": [
      "February 02 27 2024 27 29 March\n"
     ]
    },
    {
     "data": {
      "text/plain": [
       "('February', '02', '27', '2024', 27, 29, 'March')"
      ]
     },
     "execution_count": 14,
     "metadata": {},
     "output_type": "execute_result"
    }
   ],
   "source": [
    "daysAndDatesNew()"
   ]
  },
  {
   "cell_type": "code",
   "execution_count": null,
   "id": "22058d42",
   "metadata": {},
   "outputs": [],
   "source": []
  }
 ],
 "metadata": {
  "kernelspec": {
   "display_name": "Python 3 (ipykernel)",
   "language": "python",
   "name": "python3"
  },
  "language_info": {
   "codemirror_mode": {
    "name": "ipython",
    "version": 3
   },
   "file_extension": ".py",
   "mimetype": "text/x-python",
   "name": "python",
   "nbconvert_exporter": "python",
   "pygments_lexer": "ipython3",
   "version": "3.10.9"
  }
 },
 "nbformat": 4,
 "nbformat_minor": 5
}
