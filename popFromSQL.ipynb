{
 "cells": [
  {
   "cell_type": "code",
   "execution_count": null,
   "id": "611a4bf2",
   "metadata": {},
   "outputs": [],
   "source": [
    "import pandas as pd\n",
    "import datetime\n",
    "from datetime import datetime\n",
    "from dateutil.tz import tzutc, tzlocal\n",
    "import pytz\n",
    "import sqlalchemy\n",
    "import mysql.connector\n",
    "import sqlite3\n",
    "import os\n",
    "import pyodbc\n",
    "\n",
    "filePath = '/home/ec2-user/'\n",
    "fileName = 'dataDumpSQL.csv'\n",
    "\n",
    "database_username = 'chuckwx'\n",
    "database_password = 'jfr716!!00'\n",
    "database_ip       = '3.135.162.69'\n",
    "database_name     = 'hourlyt'\n",
    "database_connection = sqlalchemy.create_engine('mysql+mysqlconnector://{0}:{1}@{2}/{3}'.\n",
    "                                               format(database_username, database_password, \n",
    "                                                      database_ip, database_name), connect_args={'connect_timeout': 30})\n",
    "\n",
    "sqlSelect = \\\n",
    "        \"SELECT Year, Month, Date, Hour, Minute,Temperature \\\n",
    "         FROM hourlyt \\\n",
    "         ORDER BY Year\"\n",
    "\n",
    "cursor.execute(SQLSelect)"
   ]
  }
 ],
 "metadata": {
  "kernelspec": {
   "display_name": "Python 3 (ipykernel)",
   "language": "python",
   "name": "python3"
  },
  "language_info": {
   "codemirror_mode": {
    "name": "ipython",
    "version": 3
   },
   "file_extension": ".py",
   "mimetype": "text/x-python",
   "name": "python",
   "nbconvert_exporter": "python",
   "pygments_lexer": "ipython3",
   "version": "3.10.9"
  }
 },
 "nbformat": 4,
 "nbformat_minor": 5
}
