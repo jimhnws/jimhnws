{
 "cells": [
  {
   "cell_type": "code",
   "execution_count": 22,
   "id": "44f50d82",
   "metadata": {},
   "outputs": [
    {
     "name": "stdout",
     "output_type": "stream",
     "text": [
      "1690171200 1690243731\n"
     ]
    }
   ],
   "source": [
    "import json\n",
    "import urllib\n",
    "import requests\n",
    "import csv\n",
    "import re\n",
    "import calcTimeStamp\n",
    "import UTC2local\n",
    "\n",
    "# Calculate the time and date for calcualtions so far\n",
    "\n",
    "xy = UTC2local.UTC2local()\n",
    "start, end = (xy[0], xy[1])\n",
    "start = start - 14400\n",
    "start = str(start)\n",
    "end = str(end)\n",
    "print(start,end)"
   ]
  },
  {
   "cell_type": "code",
   "execution_count": 23,
   "id": "10ce2711",
   "metadata": {},
   "outputs": [
    {
     "name": "stdout",
     "output_type": "stream",
     "text": [
      "1690171200 1690243731\n",
      "https://swd.weatherflow.com/swd/rest/observations/device/246921?time_start=1690171200&time_end=1690243731&format=csv&token=877f6425-04a5-4f33-86e7-7123b7ef53d9\n"
     ]
    }
   ],
   "source": [
    "import datetime\n",
    "from datetime import datetime\n",
    "import dataFile\n",
    "\n",
    "#\n",
    "# Get data from the Tempest database for the new station\n",
    "#\n",
    "\n",
    "token = '877f6425-04a5-4f33-86e7-7123b7ef53d9'\n",
    "protocol = 'https://'\n",
    "urlSiteDevice = 'swd.weatherflow.com/swd/rest/observations/device/'\n",
    "urlSiteStation = 'swd.weatherflow.com/swd/rest/observations/station/'\n",
    "deviceID = '246921'\n",
    "stationID = '95775'\n",
    "preToken = '&token='\n",
    "preStart = '?time_start='\n",
    "preEnd = '&time_end='\n",
    "start_time = start\n",
    "end_time = end\n",
    "dayOffset = '&day_offset=1'\n",
    "format1 = '&format=csv'\n",
    "print(start_time, end_time)\n",
    "#\n",
    "# Put it together\n",
    "# \n",
    "\n",
    "goGetDeviceSummary = (f'{protocol}{urlSiteDevice}{deviceID}{preStart}{start_time}{preEnd}{end_time}{format1}{preToken}{token}')\n",
    "print(goGetDeviceSummary)\n",
    "r =  requests.get(goGetDeviceSummary)\n",
    "path_to_file = '/Users/jameshayes/'\n",
    "#path_to_file = '/home/ec2-user/'\n",
    "full_file = (f'{path_to_file}latestTempestinfo.csv')\n",
    "\n",
    "with open(full_file,'w') as fd:\n",
    "     fd.write(r.text)"
   ]
  },
  {
   "cell_type": "code",
   "execution_count": 24,
   "id": "f7613dd5",
   "metadata": {},
   "outputs": [
    {
     "name": "stdout",
     "output_type": "stream",
     "text": [
      "20\n",
      "78 08:08 PM\n"
     ]
    }
   ],
   "source": [
    "import pandas as pd\n",
    "import dataFile\n",
    "import datetime\n",
    "from datetime import datetime\n",
    "from dateutil.tz import tzutc, tzlocal\n",
    "import pytz\n",
    "\n",
    "#\n",
    "# Read in the CSV file for processing in pandas\n",
    "#\n",
    "\n",
    "full_file =(f'{path_to_file}latestTempestinfo.csv')\n",
    "df = pd.read_csv(full_file, index_col=False)\n",
    "\n",
    "pd.set_option('display.max_rows', 1440)\n",
    "pd.set_option('display.max_columns', 35)\n",
    "pd.set_option('display.width', 1500)\n",
    "pd.set_option('display.colheader_justify', 'center')\n",
    "pd.set_option('display.precision', 2)\n",
    "\n",
    "latestT = (df['temperature'].iloc[-1]) \n",
    "lastT = round((latestT*1.8) + 32)\n",
    "\n",
    "timezone = pytz.timezone(\"America/New_York\")\n",
    "recentT = (df['timestamp'].iloc[-1])\n",
    "dt_object = datetime.fromtimestamp(recentT)\n",
    "localT = dt_object.astimezone(timezone)\n",
    "lastTime = localT.strftime('%I:%M %p')  \n",
    "time24 = localT.strftime('%-H')  \n",
    "time24 = int(time24)\n",
    "print(time24)\n",
    "\n",
    "print(lastT, lastTime)\n",
    "\n",
    "# write the data to a csv file with an html suffix\n",
    "\n",
    "new_path = '/Users/jameshayes/'\n",
    "#new_path = '/home/ec2-user/'\n",
    "\n",
    "with open(f'{new_path}LatestT_tempest.csv', 'w') as outfile:\n",
    "    print(f'{lastT},{lastTime}',file = outfile)"
   ]
  },
  {
   "cell_type": "code",
   "execution_count": 25,
   "id": "485e07b4",
   "metadata": {},
   "outputs": [],
   "source": [
    "import openpyxl\n",
    "from openpyxl import load_workbook\n",
    "import datetime\n",
    "from datetime import datetime\n",
    "import excelFilename\n",
    "import calcTimeNow\n",
    "from calcTimeNow import calcTimeNow\n",
    "import getNameNumbers"
   ]
  },
  {
   "cell_type": "code",
   "execution_count": 26,
   "id": "284acbc4",
   "metadata": {},
   "outputs": [
    {
     "name": "stdout",
     "output_type": "stream",
     "text": [
      "Today is:  2023-07-24\n",
      "The day of the month is:  24 \n",
      "\n",
      "This month is : July\n",
      "This year is:  2023\n",
      "Number of days this month:  31 \n",
      "\n",
      "Yesterday was:  2023-07-23\n",
      "The day of the month yesterday was:  23 \n",
      "\n",
      "Last month was:  June\n",
      "Last year was:  2022 \n",
      "\n",
      "Number of days last month:  30 \n",
      "\n",
      "Last day of the previous month:  30\n",
      "Last day of the previous year:  31 \n",
      "\n",
      "/Users/jameshayes/July242023_TempestT.xlsx\n"
     ]
    }
   ],
   "source": [
    "#\n",
    "# Create the month name for the xlsx filename\n",
    "#\n",
    "\n",
    "gg = getNameNumbers.tempest_ec2()\n",
    "\n",
    "xls_filename, xls_fullfile, path_name, date, this_month, thisYear = gg[0], gg[1], gg[2], gg[3], gg[4], gg[5]\n",
    "new_path = '/Users/jameshayes/'\n",
    "\n",
    "#\n",
    "# Create a new filename based on date info\n",
    "#\n",
    "\n",
    "finalFile = f'{new_path}{this_month}{date}{thisYear}_TempestT.xlsx'\n",
    "print(finalFile)\n",
    "\n",
    "wb = openpyxl.load_workbook(finalFile)\n",
    "sheet = wb.active\n",
    "\n",
    "a3 = sheet['A1']\n",
    "a3.value = 'Time'\n",
    "b3 = sheet['B1']\n",
    "b3.value = 'Temperature'\n",
    "\n",
    "# Write the data..\n",
    "\n",
    "nowTime = sheet.cell(row = time24 + 2, column = 1)\n",
    "nowTime.value = lastTime\n",
    "\n",
    "newest_T = sheet.cell(row = time24 + 2, column = 2)\n",
    "newest_T.value = lastT\n",
    "\n",
    "wb.save(finalFile)"
   ]
  },
  {
   "cell_type": "code",
   "execution_count": 27,
   "id": "84316533",
   "metadata": {
    "scrolled": true
   },
   "outputs": [
    {
     "name": "stdout",
     "output_type": "stream",
     "text": [
      "/Users/jameshayes/July242023_TempestT.xlsx\n",
      "      Time    Temperature\n",
      "0        NaN      NaN    \n",
      "1        NaN      NaN    \n",
      "2        NaN      NaN    \n",
      "3        NaN      NaN    \n",
      "4        NaN      NaN    \n",
      "5        NaN      NaN    \n",
      "6        NaN      NaN    \n",
      "7        NaN      NaN    \n",
      "8        NaN      NaN    \n",
      "9        NaN      NaN    \n",
      "10       NaN      NaN    \n",
      "11       NaN      NaN    \n",
      "12       NaN      NaN    \n",
      "13  01:17 PM     79.0    \n",
      "14       NaN      NaN    \n",
      "15       NaN      NaN    \n",
      "16       NaN      NaN    \n",
      "17       NaN      NaN    \n",
      "18       NaN      NaN    \n",
      "19  07:02 PM     80.0    \n",
      "20  08:08 PM     78.0    \n"
     ]
    },
    {
     "data": {
      "image/png": "[encoded data removed]",
      "text/plain": [
       "<Figure size 1000x600 with 1 Axes>"
      ]
     },
     "metadata": {},
     "output_type": "display_data"
    }
   ],
   "source": [
    "import pandas as pd\n",
    "import matplotlib.pyplot as plt\n",
    "import matplotlib.colors as mcolors\n",
    "import numpy as np\n",
    "import calcTimeNow\n",
    "import getDaysInMonth\n",
    "import getNameNumbers\n",
    "\n",
    "# Defining some variables\n",
    "\n",
    "finalFile = f'{new_path}{this_month}{date}{thisYear}_TempestT.xlsx'\n",
    "path1 = '/Users/jameshayes/Sites/'\n",
    "#path1 = '/var/www/html/000/'    \n",
    "print(finalFile)\n",
    "\n",
    "df = pd.read_excel(finalFile)\n",
    "print(df)\n",
    "\n",
    "t = df['Temperature']\n",
    "y = t.to_numpy()\n",
    "\n",
    "plt.figure(figsize= (10,6))\n",
    "plt.yticks(fontsize=12)\n",
    "plt.ylabel('Temperature (F)', fontsize=12, fontweight ='bold')\n",
    "\n",
    "plt.xticks(np.arange(0,24,1))\n",
    "plt.xlabel('Hours (24 hour clock)', fontsize=12, fontweight ='bold')\n",
    "\n",
    "plt.title(f'{this_month} {date} {thisYear} Hourly Temperatures', fontsize=12, fontweight ='bold')\n",
    "plt.plot(y,  color = \"red\", linewidth = 4, label =\"Temperature\")\n",
    "plt.grid(True)\n",
    "plt.autoscale(enable = True, axis = 'y')\n",
    "\n",
    "plt.savefig(f'{path1}testTT')  "
   ]
  },
  {
   "cell_type": "code",
   "execution_count": null,
   "id": "60d4bb2f",
   "metadata": {},
   "outputs": [],
   "source": []
  },
  {
   "cell_type": "code",
   "execution_count": null,
   "id": "6b12f4f9",
   "metadata": {},
   "outputs": [],
   "source": []
  },
  {
   "cell_type": "code",
   "execution_count": null,
   "id": "8e253ff5",
   "metadata": {},
   "outputs": [],
   "source": []
  },
  {
   "cell_type": "code",
   "execution_count": null,
   "id": "055f80f0",
   "metadata": {},
   "outputs": [],
   "source": []
  }
 ],
 "metadata": {
  "kernelspec": {
   "display_name": "Python 3 (ipykernel)",
   "language": "python",
   "name": "python3"
  },
  "language_info": {
   "codemirror_mode": {
    "name": "ipython",
    "version": 3
   },
   "file_extension": ".py",
   "mimetype": "text/x-python",
   "name": "python",
   "nbconvert_exporter": "python",
   "pygments_lexer": "ipython3",
   "version": "3.10.9"
  }
 },
 "nbformat": 4,
 "nbformat_minor": 5
}
