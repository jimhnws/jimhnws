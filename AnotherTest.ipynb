{
 "cells": [
  {
   "cell_type": "code",
   "execution_count": null,
   "id": "6499750c",
   "metadata": {
    "scrolled": true
   },
   "outputs": [],
   "source": [
    "#import the library\n",
    "import mysql.connector\n",
    "\n",
    "# creating connection\n",
    "conn = mysql.connector.connect(\n",
    "  host=\"3.135.162.69\",\n",
    "  user=\"chuckwx\",\n",
    "  password=\"jfr716!!00\"\n",
    ")\n",
    "\n",
    "#print the connection\n",
    "print(conn)\n",
    "# import the cursor from the connection (conn)\n",
    "\n",
    "mycursor = conn.cursor()\n",
    "#print the mycursor\n",
    "\n",
    "mycursor.execute(\"USE hourlyt;\")\n",
    "mycursor.execute(\"SELECT * FROM hourlyt ORDER BY Month ASC LIMIT 24;\")\n",
    "for row in mycursor:\n",
    "    print(row)\n"
   ]
  }
 ],
 "metadata": {
  "kernelspec": {
   "display_name": "Python 3 (ipykernel)",
   "language": "python",
   "name": "python3"
  },
  "language_info": {
   "codemirror_mode": {
    "name": "ipython",
    "version": 3
   },
   "file_extension": ".py",
   "mimetype": "text/x-python",
   "name": "python",
   "nbconvert_exporter": "python",
   "pygments_lexer": "ipython3",
   "version": "3.10.9"
  }
 },
 "nbformat": 4,
 "nbformat_minor": 5
}
