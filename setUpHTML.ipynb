{
 "cells": [
  {
   "cell_type": "code",
   "execution_count": 11,
   "metadata": {},
   "outputs": [
    {
     "data": {
      "text/plain": [
       "'/home/ec2-user/March_2023_Davis.xlsx'"
      ]
     },
     "execution_count": 11,
     "metadata": {},
     "output_type": "execute_result"
    }
   ],
   "source": [
    "import excelFilename\n",
    "\n",
    "def setUpHTML_mac():\n",
    "    path_to_file = '/Users/jameshayes/'\n",
    "    html_path = '/Users/jameshayes/Sites/'\n",
    "    xls_filename = excelFilename.tempest()\n",
    "    new_file = f'{path_to_file}{xls_filename}'\n",
    "    return(new_file)\n",
    "\n",
    "def setUpHTML_ec2():\n",
    "    path_to_file = '/home/ec2-user/'\n",
    "    html_path = '/var/html/www/000'\n",
    "    xls_filename = excelFilename.davis()\n",
    "    new_file = f'{path_to_file}{xls_filename}'\n",
    "    return (new_file)"
   ]
  },
  {
   "cell_type": "code",
   "execution_count": null,
   "metadata": {},
   "outputs": [],
   "source": []
  }
 ],
 "metadata": {
  "kernelspec": {
   "display_name": "Python 3 (ipykernel)",
   "language": "python",
   "name": "python3"
  },
  "language_info": {
   "codemirror_mode": {
    "name": "ipython",
    "version": 3
   },
   "file_extension": ".py",
   "mimetype": "text/x-python",
   "name": "python",
   "nbconvert_exporter": "python",
   "pygments_lexer": "ipython3",
   "version": "3.8.5"
  }
 },
 "nbformat": 4,
 "nbformat_minor": 4
}
