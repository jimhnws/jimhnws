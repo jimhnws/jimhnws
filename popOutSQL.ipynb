{
 "cells": [
  {
   "cell_type": "code",
   "execution_count": null,
   "id": "232b4bdb",
   "metadata": {},
   "outputs": [],
   "source": [
    "import pandas as pd\n",
    "import dataFile\n",
    "import getNameNumbers\n",
    "import sqlalchemy\n",
    "import mysql.connector\n",
    "import sqlite3\n",
    "\n",
    "path = '/tmp/'\n",
    "path1 = '/home/ec2-user/'\n",
    "file_name = 'testKRB0.csv'\n",
    "data_file = f'{path}{file_name}'\n",
    "df = pd.read_csv(data_file, index_col=False, sep = '\\t', names = ['id', 'Year', 'Month', 'Date', 'Hour', 'temperature'])\n",
    "df = df.drop(df.columns[[0]], axis = 1)"
   ]
  }
 ],
 "metadata": {
  "kernelspec": {
   "display_name": "Python 3 (ipykernel)",
   "language": "python",
   "name": "python3"
  },
  "language_info": {
   "codemirror_mode": {
    "name": "ipython",
    "version": 3
   },
   "file_extension": ".py",
   "mimetype": "text/x-python",
   "name": "python",
   "nbconvert_exporter": "python",
   "pygments_lexer": "ipython3",
   "version": "3.10.9"
  }
 },
 "nbformat": 4,
 "nbformat_minor": 5
}
