{
 "cells": [
  {
   "cell_type": "code",
   "execution_count": 284,
   "id": "5ac6331f",
   "metadata": {},
   "outputs": [],
   "source": [
    "def getFcstPA():\n",
    "    fcst_pts = [40.3422,-76.71506]\n",
    "    file_path = '/Users/jameshayes/'\n",
    "        \n",
    "    lat = fcst_pts[0]\n",
    "    lon = fcst_pts[1]\n",
    "    urlFcst = f'https://api.weather.gov/points/{lat},{lon}'\n",
    "        \n",
    "    with open(f'{file_path}nwsFcst.txt','w') as fd:\n",
    "        fd.write(urlFcst + '\\n')\n",
    "  \n",
    "    return\n",
    "\n",
    "def getFcstNJ():\n",
    "    fcst_pts = [39.9745,-74.1252]\n",
    "    file_path = '/Users/jameshayes/'\n",
    "    \n",
    "    lat = fcst_pts[0]\n",
    "    lon = fcst_pts[1]\n",
    "    urlFcst = f'https://api.weather.gov/points/{lat},{lon}'\n",
    "        \n",
    "    with open(f'{file_path}nwsFcst.txt',\"a\") as fd:\n",
    "        fd.write(urlFcst)\n",
    "    \n",
    "    return\n",
    "\n",
    "def openFcstPA():\n",
    "    file_path = '/Users/jameshayes/'\n",
    "    \n",
    "    with open(f'{file_path}nwsFcst.txt','r') as df:\n",
    "        content = [line.strip() for line in df]\n",
    "        fcstPA = content[0]\n",
    "                \n",
    "    pa = requests.get(fcstPA)\n",
    "    pa.encoding = 'utf-8'\n",
    "            \n",
    "    with open(f'{file_path}ptFcst.json','w') as fd:\n",
    "        json.dump(pa.json(), fd)\n",
    "        \n",
    "    return\n",
    "        \n",
    "        \n",
    "def openFcstNJ():        \n",
    "    file_path = '/Users/jameshayes/'\n",
    "    \n",
    "    with open(f'{file_path}nwsFcst.txt','r') as df:\n",
    "        content = [line.strip() for line in df]\n",
    "        fcstNJ = content[1]  \n",
    "        print(fcstNJ)\n",
    "        \n",
    "    nj = requests.get(fcstNJ)\n",
    "    nj.encoding = 'utf-8'\n",
    "            \n",
    "    with open(f'{file_path}ptFcst.json','a') as fd:\n",
    "        json.dump(nj.json(), fd)\n",
    "     \n",
    "    return   "
   ]
  },
  {
   "cell_type": "code",
   "execution_count": 285,
   "id": "0751140c",
   "metadata": {},
   "outputs": [],
   "source": [
    "getFcstPA()"
   ]
  },
  {
   "cell_type": "code",
   "execution_count": 286,
   "id": "f6dfcd56",
   "metadata": {},
   "outputs": [],
   "source": [
    "getFcstNJ()"
   ]
  },
  {
   "cell_type": "code",
   "execution_count": 287,
   "id": "037d2c17",
   "metadata": {
    "scrolled": true
   },
   "outputs": [],
   "source": [
    "openFcstPA()"
   ]
  },
  {
   "cell_type": "code",
   "execution_count": 288,
   "id": "ee07ffcc",
   "metadata": {},
   "outputs": [
    {
     "name": "stdout",
     "output_type": "stream",
     "text": [
      "https://api.weather.gov/points/39.9745,-74.1252\n"
     ]
    }
   ],
   "source": [
    "openFcstNJ()"
   ]
  },
  {
   "cell_type": "code",
   "execution_count": null,
   "id": "d78ea856",
   "metadata": {},
   "outputs": [],
   "source": []
  },
  {
   "cell_type": "code",
   "execution_count": null,
   "id": "1a0dd8e3",
   "metadata": {},
   "outputs": [],
   "source": []
  },
  {
   "cell_type": "code",
   "execution_count": null,
   "id": "32accbe7",
   "metadata": {},
   "outputs": [],
   "source": []
  }
 ],
 "metadata": {
  "kernelspec": {
   "display_name": "Python 3 (ipykernel)",
   "language": "python",
   "name": "python3"
  },
  "language_info": {
   "codemirror_mode": {
    "name": "ipython",
    "version": 3
   },
   "file_extension": ".py",
   "mimetype": "text/x-python",
   "name": "python",
   "nbconvert_exporter": "python",
   "pygments_lexer": "ipython3",
   "version": "3.10.9"
  }
 },
 "nbformat": 4,
 "nbformat_minor": 5
}
