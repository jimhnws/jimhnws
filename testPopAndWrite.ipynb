{
 "cells": [
  {
   "cell_type": "code",
   "execution_count": null,
   "id": "f2c78c24",
   "metadata": {},
   "outputs": [],
   "source": [
    "import pandas as pd\n",
    "import dataFile\n",
    "import getNameNumbers\n",
    "import sqlalchemy\n",
    "import mysql.connector\n",
    "import sqlite3\n",
    "\n",
    "# creating connection\n",
    "conn = mysql.connector.connect(\n",
    "  host=\"3.135.162.69\",\n",
    "  user=\"chuckwx\",\n",
    "  password=\"jfr716!!00\"\n",
    "   \n",
    ")\n",
    "\n",
    "mycursor = conn.cursor()\n",
    "mycursor.execute(\"USE hourlyt;\")\n",
    "pop1 = (\"select @startTime := timeStamp from testTempest order by id DESC LIMIT 1;\")\n",
    "pop2 = (\"SELECT @endTime := DATE_SUB(@startTime, INTERVAL 24 Hour);\")\n",
    "pop3 = (\"SELECT * from testTempest WHERE timeStamp BETWEEN @endTime AND @startTime into OUTFILE '/tmp/testTempest1.csv';\")\n",
    "popSelect = pop1 + pop2 + pop3\n",
    "\n",
    "mycursor.execute(popSelect)\n"
   ]
  },
  {
   "cell_type": "code",
   "execution_count": 1,
   "id": "3f71c584",
   "metadata": {},
   "outputs": [
    {
     "ename": "NameError",
     "evalue": "name 'pd' is not defined",
     "output_type": "error",
     "traceback": [
      "\u001b[0;31m---------------------------------------------------------------------------\u001b[0m",
      "\u001b[0;31mNameError\u001b[0m                                 Traceback (most recent call last)",
      "Cell \u001b[0;32mIn[1], line 8\u001b[0m\n\u001b[1;32m      5\u001b[0m data_file \u001b[38;5;241m=\u001b[39m \u001b[38;5;124mf\u001b[39m\u001b[38;5;124m'\u001b[39m\u001b[38;5;132;01m{\u001b[39;00mpath\u001b[38;5;132;01m}\u001b[39;00m\u001b[38;5;132;01m{\u001b[39;00mfile_name\u001b[38;5;132;01m}\u001b[39;00m\u001b[38;5;124m'\u001b[39m\n\u001b[1;32m      6\u001b[0m lastFile \u001b[38;5;241m=\u001b[39m \u001b[38;5;124mf\u001b[39m\u001b[38;5;124m'\u001b[39m\u001b[38;5;132;01m{\u001b[39;00mpath1\u001b[38;5;132;01m}\u001b[39;00m\u001b[38;5;124mpoppedSQL.csv\u001b[39m\u001b[38;5;124m'\u001b[39m\n\u001b[0;32m----> 8\u001b[0m df \u001b[38;5;241m=\u001b[39m \u001b[43mpd\u001b[49m\u001b[38;5;241m.\u001b[39mread_csv(data_file, index_col\u001b[38;5;241m=\u001b[39m\u001b[38;5;28;01mFalse\u001b[39;00m, sep \u001b[38;5;241m=\u001b[39m \u001b[38;5;124m'\u001b[39m\u001b[38;5;130;01m\\t\u001b[39;00m\u001b[38;5;124m'\u001b[39m, names \u001b[38;5;241m=\u001b[39m [\u001b[38;5;124m'\u001b[39m\u001b[38;5;124mid\u001b[39m\u001b[38;5;124m'\u001b[39m, \u001b[38;5;124m'\u001b[39m\u001b[38;5;124mDateTime\u001b[39m\u001b[38;5;124m'\u001b[39m, \u001b[38;5;124m'\u001b[39m\u001b[38;5;124mLocalTime\u001b[39m\u001b[38;5;124m'\u001b[39m, \u001b[38;5;124m'\u001b[39m\u001b[38;5;124mTemperature\u001b[39m\u001b[38;5;124m'\u001b[39m])\n\u001b[1;32m      9\u001b[0m df \u001b[38;5;241m=\u001b[39m df\u001b[38;5;241m.\u001b[39mdrop(df\u001b[38;5;241m.\u001b[39mcolumns[[\u001b[38;5;241m0\u001b[39m]], axis \u001b[38;5;241m=\u001b[39m \u001b[38;5;241m1\u001b[39m)\n\u001b[1;32m     10\u001b[0m \u001b[38;5;28mprint\u001b[39m(df)\n",
      "\u001b[0;31mNameError\u001b[0m: name 'pd' is not defined"
     ]
    }
   ],
   "source": [
    "path = '/tmp/'\n",
    "path1 = '/home/ec2-user/'\n",
    "path2 = '/var/www/html/000/'\n",
    "file_name = 'testTempest1.csv'\n",
    "data_file = f'{path}{file_name}'\n",
    "lastFile = f'{path1}poppedSQL.csv'\n",
    "\n",
    "df = pd.read_csv(data_file, index_col=False, sep = '\\t', names = ['id', 'DateTime', 'LocalTime', 'Temperature'])\n",
    "df = df.drop(df.columns[[0]], axis = 1)\n",
    "print(df)\n",
    "\n",
    "#df.to_csv(lastFile, sep = ',', index = False)\n",
    "df.to_html(path2 + 'testT' + '.html', index = False, justify = 'center')"
   ]
  },
  {
   "cell_type": "code",
   "execution_count": null,
   "id": "3f0913ac",
   "metadata": {},
   "outputs": [],
   "source": [
    "import pandas as pd\n",
    "import matplotlib.pyplot as plt\n",
    "import matplotlib.colors as mcolors\n",
    "import matplotlib.dates as mdates\n",
    "import numpy as np\n",
    "\n",
    "t = df['Temperature']\n",
    "y = t.to_numpy()\n",
    "date = df['LocalTime']\n",
    "x = date.to_numpy()\n",
    "\n",
    "plt.figure(figsize= (10,6))\n",
    "plt.yticks(fontsize = 12)\n",
    "plt.ylabel('Temperature (F)', fontsize=12, fontweight ='bold')\n",
    "#plt.locator_params(axis='y', nbins=20)\n",
    "\n",
    "plt.xticks(fontsize = 8, rotation = 45, fontweight = 'bold')\n",
    "plt.ylabel('Temperature (F)', fontsize=12, fontweight ='bold')\n",
    "plt.title('Hourly Temperatures - last 24 hours', fontsize = 12, fontweight = 'bold')\n",
    "plt.plot(x, y, marker = \"*\", color = \"red\", linewidth = 4, label = \"Temperature\")\n",
    "plt.grid(True)\n",
    "plt.autoscale(enable = True, axis = 'both', tight = True)\n",
    "\n",
    "plt.savefig(f'{path2}testFire')  "
   ]
  }
 ],
 "metadata": {
  "kernelspec": {
   "display_name": "Python 3 (ipykernel)",
   "language": "python",
   "name": "python3"
  },
  "language_info": {
   "codemirror_mode": {
    "name": "ipython",
    "version": 3
   },
   "file_extension": ".py",
   "mimetype": "text/x-python",
   "name": "python",
   "nbconvert_exporter": "python",
   "pygments_lexer": "ipython3",
   "version": "3.10.9"
  }
 },
 "nbformat": 4,
 "nbformat_minor": 5
}
