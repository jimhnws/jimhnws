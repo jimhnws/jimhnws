{
 "cells": [
  {
   "cell_type": "code",
   "execution_count": null,
   "id": "f2c78c24",
   "metadata": {},
   "outputs": [],
   "source": [
    "import pandas as pd\n",
    "import dataFile\n",
    "import getNameNumbers\n",
    "import sqlalchemy\n",
    "import mysql.connector\n",
    "import sqlite3\n",
    "\n",
    "# creating connection\n",
    "conn = mysql.connector.connect(\n",
    "  host=\"3.135.162.69\",\n",
    "  user=\"chuckwx\",\n",
    "  password=\"jfr716!!00\"\n",
    ")\n",
    "\n",
    "print(conn)\n",
    "mycursor = conn.cursor()\n",
    "\n",
    "mycursor.execute(\"USE hourlyt;\")\n",
    "mycursor.execute(\"SELECT * FROM testTempest INTO OUTFILE '/tmp/testKRBA.csv';\")"
   ]
  },
  {
   "cell_type": "code",
   "execution_count": null,
   "id": "3f71c584",
   "metadata": {},
   "outputs": [],
   "source": [
    "path = '/tmp/'\n",
    "path1 = '/home/ec2-user/'\n",
    "path2 = '/var/www/html/000/'\n",
    "file_name = 'testKRBA.csv'\n",
    "data_file = f'{path}{file_name}'\n",
    "lastFile = f'{path1}poppedSQL.csv'\n",
    "\n",
    "df = pd.read_csv(data_file, index_col=False, sep = '\\t', names = ['id', 'DateTime', 'LocalTime', 'Temperature'])\n",
    "df = df.drop(df.columns[[0]], axis = 1)\n",
    "\n",
    "df.to_csv(lastFile, sep = ',', index = False)\n",
    "df.to_html(path2 + 'testT' + '.html', index = False)"
   ]
  },
  {
   "cell_type": "code",
   "execution_count": null,
   "id": "3f0913ac",
   "metadata": {},
   "outputs": [],
   "source": [
    "import pandas as pd\n",
    "import matplotlib.pyplot as plt\n",
    "import matplotlib.colors as mcolors\n",
    "import numpy as np\n",
    "import calcTimeNow\n",
    "import getDaysInMonth\n",
    "\n",
    "t = df['Temperature']\n",
    "y = t.to_numpy()\n",
    "\n",
    "plt.figure(figsize= (10,6))\n",
    "plt.yticks(fontsize=12)\n",
    "plt.ylabel('Temperature (F)', fontsize=12, fontweight ='bold')\n",
    "#plt.locator_params(axis='y', nbins=20)\n",
    "\n",
    "#plt.xlim(0,23)\n",
    "plt.xticks(np.arange(0,24,1))\n",
    "plt.xlabel('Hours (24 hour clock)', fontsize=12, fontweight ='bold')\n",
    "\n",
    "plt.title('Test Graphic for 24 hours of rainfall')\n",
    "#plt.title(f'{this_month} {date} {thisYear} Hourly Temperatures', fontsize=12, fontweight ='bold')\n",
    "plt.plot(y, marker = \"*\", color = \"red\", linewidth = 4, label = \"Temperature\")\n",
    "plt.grid(True)\n",
    "plt.autoscale(enable = True, axis = 'y', tight = True)\n",
    "\n",
    "plt.savefig(f'{path2}testFire')  "
   ]
  }
 ],
 "metadata": {
  "kernelspec": {
   "display_name": "Python 3 (ipykernel)",
   "language": "python",
   "name": "python3"
  },
  "language_info": {
   "codemirror_mode": {
    "name": "ipython",
    "version": 3
   },
   "file_extension": ".py",
   "mimetype": "text/x-python",
   "name": "python",
   "nbconvert_exporter": "python",
   "pygments_lexer": "ipython3",
   "version": "3.10.9"
  }
 },
 "nbformat": 4,
 "nbformat_minor": 5
}
