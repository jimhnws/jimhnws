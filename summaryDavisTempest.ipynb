{
 "cells": [
  {
   "cell_type": "code",
   "execution_count": 50,
   "id": "03ca5d15",
   "metadata": {},
   "outputs": [
    {
     "name": "stdout",
     "output_type": "stream",
     "text": [
      "Done at 2023-03-26 23:21:49.557857\n"
     ]
    }
   ],
   "source": [
    "import pandas as pd\n",
    "import datetime\n",
    "from datetime import datetime\n",
    "import time\n",
    "\n",
    "now = (datetime.now())\n",
    "\n",
    "df1 = pd.read_csv('/Users/jameshayes/HiLoRain.csv', names = ['High','Low','Rainfall','Fake Rain','Time'], index_col = False)\n",
    "df1['Platform'] = 'Davis'\n",
    "df2 = pd.read_csv('/Users/jameshayes/HiLoRain_tempest.csv', names = ['High','Low','Rainfall','Fake Rain','Time'], index_col = False)\n",
    "df2['Platform'] = 'Tempest'\n",
    "pd.set_option('display.precision', 2)\n",
    "pd.set_option('display.colheader_justify', 'center')\n",
    "df3 = pd.concat([df1,df2])\n",
    "print(f'Done at {now}')\n",
    "df3.to_html('/Users/jameshayes/Sites/together.html', index = False)  "
   ]
  },
  {
   "cell_type": "code",
   "execution_count": null,
   "id": "08cde70e",
   "metadata": {},
   "outputs": [],
   "source": []
  },
  {
   "cell_type": "code",
   "execution_count": null,
   "id": "97eca05d",
   "metadata": {},
   "outputs": [],
   "source": []
  },
  {
   "cell_type": "code",
   "execution_count": null,
   "id": "451127b8",
   "metadata": {},
   "outputs": [],
   "source": []
  }
 ],
 "metadata": {
  "kernelspec": {
   "display_name": "Python 3 (ipykernel)",
   "language": "python",
   "name": "python3"
  },
  "language_info": {
   "codemirror_mode": {
    "name": "ipython",
    "version": 3
   },
   "file_extension": ".py",
   "mimetype": "text/x-python",
   "name": "python",
   "nbconvert_exporter": "python",
   "pygments_lexer": "ipython3",
   "version": "3.10.9"
  }
 },
 "nbformat": 4,
 "nbformat_minor": 5
}
