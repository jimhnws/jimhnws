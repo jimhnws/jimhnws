{
 "cells": [
  {
   "cell_type": "code",
   "execution_count": null,
   "id": "8bb43d21",
   "metadata": {},
   "outputs": [],
   "source": [
    "import pandas as pd\n",
    "import matplotlib.pyplot as plt\n",
    "import matplotlib.colors as mcolors\n",
    "import numpy as np\n",
    "import seaborn as sns\n",
    "import calcTimeNow\n",
    "import getDaysInMonth\n",
    "import getNameNumbers"
   ]
  },
  {
   "cell_type": "code",
   "execution_count": null,
   "id": "ab3cfaf9",
   "metadata": {},
   "outputs": [],
   "source": [
    "from matplotlib.ticker import FormatStrFormatter\n",
    "\n",
    "path1 = '/var/www/html/trclimate/'\n",
    "\n",
    "sta = ['Davis']\n",
    "\n",
    "for qwe in sta:\n",
    "\n",
    "    wl = getNameNumbers.davis()\n",
    "    xls_filename, xls_fullfile, path_name, date, month_name, year, r = wl[0], wl[1], \\\n",
    "    wl[2], wl[3], wl[4], wl[5], wl[6]      \n",
    "                 \n",
    "    wxdata = f'{path_name}{month_name}_{year}_{qwe}.xlsx'\n",
    "    df = pd.read_excel(wxdata, skiprows=[0,1])\n",
    "            \n",
    "    if qwe == 'Tempest':\n",
    "        df = df.drop(df.columns[[1,2,3,4,5,8,9]], axis=1)\n",
    "        df = df.drop(df.index[date:r+1]) \n",
    "        df['Date'] = df['Date'].astype(int)\n",
    "       \n",
    "    else:\n",
    "        df = df.drop(df.columns[[1,2,3,4,5,7,8,9,10,11,12,13,14]], axis=1)\n",
    "        df = df.drop(df.index[date:r+1])\n",
    "        df['Date'] = df['Date'].astype(int)\n",
    "        \n",
    "        \n",
    "    #Plot the results in matplotlib\n",
    "    \n",
    "    plt.style.use('fivethirtyeight')  \n",
    "    \n",
    "    #sns.set_style(\"whitegrid\", {'grid.color': 'black'})\n",
    "    plt.figure(figsize=(10, 6))\n",
    "    plt.xlim(1, date - 1)\n",
    "    plt.xticks(fontsize=12)\n",
    "    plt.xlabel('Date', fontsize=12, fontweight ='bold')\n",
    "    plt.yticks(fontsize=12)\n",
    "    #plt.ylim(0, None)\n",
    "    sns.barplot(data = df, x = 'Date', y = 'Rainfall', color = 'g')\n",
    "    plt.autoscale(enable = True, axis = 'both', tight = True)\n",
    "    plt.grid(True)\n",
    "    plt.ylabel('Rainfall (inches)', fontsize=12, fontweight ='bold')\n",
    "    plt.title(f'{month_name} {year} Rainfall', fontsize=12, fontweight ='bold')\n",
    "    plt.savefig(f'{path1}rain_{qwe}') "
   ]
  }
 ],
 "metadata": {
  "kernelspec": {
   "display_name": "Python 3 (ipykernel)",
   "language": "python",
   "name": "python3"
  },
  "language_info": {
   "codemirror_mode": {
    "name": "ipython",
    "version": 3
   },
   "file_extension": ".py",
   "mimetype": "text/x-python",
   "name": "python",
   "nbconvert_exporter": "python",
   "pygments_lexer": "ipython3",
   "version": "3.10.9"
  }
 },
 "nbformat": 4,
 "nbformat_minor": 5
}
