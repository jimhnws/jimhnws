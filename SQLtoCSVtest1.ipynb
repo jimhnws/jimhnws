{
 "cells": [
  {
   "cell_type": "code",
   "execution_count": 5,
   "id": "48b04edd",
   "metadata": {},
   "outputs": [
    {
     "name": "stdout",
     "output_type": "stream",
     "text": [
      "(10107, '0.39', '74.1', '55.4', '2014', '5', '1')\n",
      "[(10108, '0.01', '70.7', '53', '2014', '5', '2'), (10109, '0.09', '70.1', '49.3', '2014', '5', '3'), (10110, '0', '65.7', '49.1', '2014', '5', '4'), (10111, '0', '70.3', '47.5', '2014', '5', '5'), (10112, '0', '65.2', '43.3', '2014', '5', '6'), (10113, '0.03', '62.4', '44', '2014', '5', '7'), (10114, '0.48', '62.2', '50.8', '2014', '5', '8'), (10115, '0', '58.6', '52.4', '2014', '5', '9'), (10116, '0.05', '84.8', '55.6', '2014', '5', '10'), (10117, '0.15', '82.1', '60.6', '2014', '5', '11'), (10118, '0.4', '83.6', '58.5', '2014', '5', '12'), (10119, '0', '66.2', '52', '2014', '5', '13'), (10120, '0', '56.1', '50.9', '2014', '5', '14'), (10121, '0.01', '68.6', '55.5', '2014', '5', '15'), (10122, '1.51', '66.8', '60.3', '2014', '5', '16'), (10123, '0.01', '68.6', '52.6', '2014', '5', '17'), (10124, '0', '66.1', '46.5', '2014', '5', '18'), (10125, '0', '74.2', '45.8', '2014', '5', '19'), (10126, '0', '79.7', '49.7', '2014', '5', '20'), (10127, '0', '75', '60.3', '2014', '5', '21'), (10128, '1.72', '66', '58.8', '2014', '5', '22'), (10129, '0.05', '65.5', '56.4', '2014', '5', '23'), (10130, '0.11', '67.1', '52.3', '2014', '5', '24'), (10131, '0', '79.2', '50.7', '2014', '5', '25'), (10132, '0', '88.6', '61.8', '2014', '5', '26'), (10133, '0', '90.1', '66.4', '2014', '5', '27'), (10134, '0.22', '68.9', '53.3', '2014', '5', '28'), (10135, '0', '61.4', '52.1', '2014', '5', '29'), (10136, '0', '73.2', '52.9', '2014', '5', '30'), (10137, '0', '71.4', '54.6', '2014', '5', '31')]\n"
     ]
    }
   ],
   "source": [
    "import mysql.connector\n",
    "\n",
    "#establishing the connection\n",
    "conn = mysql.connector.connect(\n",
    "   user='chuckwx', password='jfr716!!00', host='3.135.162.69', database='trweather')\n",
    "\n",
    "#Creating a cursor object using the cursor() method\n",
    "cursor = conn.cursor()\n",
    "\n",
    "#Retrieving single row\n",
    "sql = '''SELECT * from trweather\n",
    "         WHERE Year = '2014'\n",
    "         AND Month = '5' '''\n",
    "\n",
    "#Executing the query\n",
    "cursor.execute(sql)\n",
    "\n",
    "#Fetching 1st row from the table\n",
    "result = cursor.fetchone();\n",
    "print(result)\n",
    "\n",
    "#Fetching 1st row from the table\n",
    "result = cursor.fetchall();\n",
    "print(result)\n",
    "\n",
    "#Closing the connection\n",
    "conn.close()"
   ]
  },
  {
   "cell_type": "code",
   "execution_count": null,
   "id": "1fc01ff6",
   "metadata": {},
   "outputs": [],
   "source": []
  }
 ],
 "metadata": {
  "kernelspec": {
   "display_name": "Python 3 (ipykernel)",
   "language": "python",
   "name": "python3"
  },
  "language_info": {
   "codemirror_mode": {
    "name": "ipython",
    "version": 3
   },
   "file_extension": ".py",
   "mimetype": "text/x-python",
   "name": "python",
   "nbconvert_exporter": "python",
   "pygments_lexer": "ipython3",
   "version": "3.10.9"
  }
 },
 "nbformat": 4,
 "nbformat_minor": 5
}
