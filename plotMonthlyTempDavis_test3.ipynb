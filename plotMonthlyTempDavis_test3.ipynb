{
 "cells": [
  {
   "cell_type": "code",
   "execution_count": null,
   "id": "f7d1d426",
   "metadata": {},
   "outputs": [],
   "source": [
    "import pandas as pd\n",
    "import matplotlib.pyplot as plt\n",
    "import matplotlib.colors as mcolors\n",
    "import numpy as np\n",
    "import seaborn as sns\n",
    "from scipy.interpolate import make_interp_spline\n",
    "import calcTimeNow\n",
    "import getDaysInMonth\n",
    "import getNameNumbers"
   ]
  },
  {
   "cell_type": "code",
   "execution_count": null,
   "id": "939ad46e",
   "metadata": {},
   "outputs": [],
   "source": [
    "sta = ['Davis']\n",
    "\n",
    "for qwe in sta:\n",
    "\n",
    "    wl = getNameNumbers.davis()\n",
    "    xls_filename, xls_fullfile, path_name, date, month_name, year, r = wl[0], wl[1], \\\n",
    "    wl[2], wl[3], wl[4], wl[5], wl[6]       \n",
    "    \n",
    "    wxdata = f'{path_name}{month_name}_{year}_{qwe}.xlsx'\n",
    "    df = pd.read_excel(wxdata, skiprows=[0,1])\n",
    "    if qwe == 'Davis':\n",
    "        df = df.drop(df.columns[[3,4,5,6,7,8,9,10,11,12,13,14]], axis=1)\n",
    "        \n",
    "    else:\n",
    "        df = df.drop(df.columns[[3,4,5,6,7,8,9]], axis=1)\n",
    "        \n",
    "       \n",
    "    df = df.drop(df.index[date:r])\n",
    "    df['Date'] = df['Date'].astype(int)\n",
    "        \n",
    "    HI = df['High']\n",
    "    LO = df[\"Low\"]\n",
    "    DATE = df[\"Date\"]\n",
    "\n",
    "    y = HI.to_numpy()\n",
    "    y1 = LO.to_numpy()\n",
    "    x = DATE.to_numpy()\n",
    "        \n",
    "    #define x as 200 equally spaced values between the min and max of original x \n",
    "    #xnew = np.linspace(x.min(), x.max(), 200) \n",
    "\n",
    "    #define spline\n",
    "    #HIspl = make_interp_spline(x, y, k=2)\n",
    "    #y_smooth = HIspl(xnew)\n",
    "    #LOspl = make_interp_spline(x, y1, k=2)\n",
    "    #y1_smooth = LOspl(xnew)\n",
    "    \n",
    "    path1 = '/var/www/html/trclimate/'\n",
    "                \n",
    "    plt.figure(figsize= (10,6))\n",
    "    plt.locator_params(axis='x', nbins = date)\n",
    "    plt.xlim(1, date)\n",
    "    plt.xticks(fontsize=12)\n",
    "    plt.xlabel('Date', fontsize=12, fontweight ='bold')\n",
    "            \n",
    "    plt.ylim(0, 105)\n",
    "    plt.yticks(fontsize=12)\n",
    "    plt.ylabel('Temperature (F)', fontsize=12, fontweight ='bold')\n",
    "    plt.locator_params(axis='y', nbins=20)\n",
    "    plt.title(f'{month_name} {year} Temperatures', fontsize=12, fontweight ='bold')\n",
    "    plt.grid(True)\n",
    "    plt.grid(axis = \"y\", linewidth = 2.0, color = 'black')\n",
    "    plt.plot(x, y, marker = \"x\", color = \"red\", linewidth =3, label =\"High\")\n",
    "    plt.plot(x, y1, marker = \"x\", color = \"blue\", linewidth =3, label =\"Low\")\n",
    "    plt.legend(fontsize=12)\n",
    "    plt.savefig(f'{path1}tt_{qwe}')  "
   ]
  }
 ],
 "metadata": {
  "kernelspec": {
   "display_name": "Python 3 (ipykernel)",
   "language": "python",
   "name": "python3"
  },
  "language_info": {
   "codemirror_mode": {
    "name": "ipython",
    "version": 3
   },
   "file_extension": ".py",
   "mimetype": "text/x-python",
   "name": "python",
   "nbconvert_exporter": "python",
   "pygments_lexer": "ipython3",
   "version": "3.10.9"
  }
 },
 "nbformat": 4,
 "nbformat_minor": 5
}
