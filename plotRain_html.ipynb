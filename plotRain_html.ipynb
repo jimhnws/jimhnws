{
 "cells": [
  {
   "cell_type": "code",
   "execution_count": 1,
   "id": "f0e01418",
   "metadata": {},
   "outputs": [
    {
     "name": "stdout",
     "output_type": "stream",
     "text": [
      "('October', '10', '13', '2023')\n",
      "('October', '10', '12', '2023')\n"
     ]
    }
   ],
   "source": [
    "import getDays\n",
    "\n",
    "todayInfo = getDays.getToday()\n",
    "yesterdayInfo = getDays.getYesterday()\n",
    "print(todayInfo)\n",
    "print(yesterdayInfo)\n",
    "tomorrowInfo = getDays.getTomorrow()\n",
    "\n",
    "month, month_num, date, year = todayInfo[0], todayInfo[1], todayInfo[2], todayInfo[3]\n",
    "yesterday = yesterdayInfo[2]\n",
    "yesterday = int(yesterday)\n",
    "month_num = int(month_num)\n",
    "nextDay = tomorrowInfo[2]\n",
    "nextDay = int(nextDay)\n",
    "date = int(date)"
   ]
  },
  {
   "cell_type": "code",
   "execution_count": 2,
   "id": "8b6e2028",
   "metadata": {},
   "outputs": [],
   "source": [
    "import pandas as pd\n",
    "import matplotlib.pyplot as plt\n",
    "import matplotlib.colors as mcolors\n",
    "import numpy as np\n",
    "import datetime\n",
    "from datetime import datetime\n",
    "import sqlalchemy\n",
    "import mysql.connector\n",
    "import sqlite3\n",
    "import getDays\n",
    "import pymysql as dbapi\n",
    "\n",
    "#\n",
    "# Now the Tempest F6 table\n",
    "#\n",
    "\n",
    "QUERY = \"\"\"SELECT * FROM tempestF6 \n",
    "           WHERE month = %s\"\"\" % (month_num)\n",
    "\n",
    "\n",
    "db = dbapi.connect(host='3.135.162.69',user='chuckwx',passwd='jfr716!!00', database = 'tempestf6')\n",
    "\n",
    "cur = db.cursor()\n",
    "cur.execute(QUERY)\n",
    "records = cur.fetchall()\n",
    "\n",
    "qwe = ['Davis']\n",
    "\n",
    "if qwe == 'Davis':\n",
    "        df = pd.DataFrame(records, columns = ['index', 'Year', 'Month', 'Date', 'High', 'Low', 'Rainfall', 'Max_Dew_Point'])\n",
    "        df = df.drop(df.columns[[0,6,7]], axis=1)\n",
    "else:\n",
    "        df = pd.DataFrame(records, columns = ['index', 'Year', 'Month', 'Date', 'High', 'Low', 'totR', 'corR', 'Lightning1_5', 'Lightning6_10'])\n",
    "        df = df.drop(df.columns[[0,4,5,8,9]], axis=1)    "
   ]
  },
  {
   "cell_type": "code",
   "execution_count": 4,
   "id": "d8bf3714",
   "metadata": {},
   "outputs": [],
   "source": [
    "import pandas as pd\n",
    "import matplotlib.pyplot as plt\n",
    "import matplotlib.colors as mcolors\n",
    "import numpy as np\n",
    "import datetime\n",
    "import plotly.express as px\n",
    "import plotly.graph_objs as go\n",
    "\n",
    "df['Date'] = df['Date'].astype(int)\n",
    "df['totR'] = df['totR'].astype(float)\n",
    "df['corR'] = df['corR'].astype(float)\n",
    "    \n",
    "TOTR = df['totR']\n",
    "CORR = df['corR']\n",
    "DATE = df['Date']\n",
    "\n",
    "y = TOTR.to_numpy()\n",
    "y1 = CORR.to_numpy()\n",
    "x = DATE.to_numpy()\n",
    "\n",
    "fig = px.bar(\n",
    "data_frame = df,\n",
    "x = \"Date\",\n",
    "y = [y, y1],       \n",
    "orientation = \"v\",\n",
    "barmode = 'group',\n",
    "color_discrete_sequence=['red', 'green'], \n",
    "   \n",
    ")\n",
    "\n",
    "fig.update_layout(\n",
    "title = f'{month} {year}  - Tempest Tabulated vs Corrected',\n",
    "yaxis_title = \"Rainfall (inches)\", title_x = 0.5,  \n",
    "xaxis = dict(\n",
    "tickmode = 'linear',\n",
    "tickfont = dict(size = 16), \n",
    "tick0 = 1,\n",
    "dtick = 1),\n",
    "legend_title = \"Rainfall\", \n",
    "    \n",
    ")\n",
    "\n",
    "#fig.write_html(f'/Users/jameshayes/Sites/tempestComp.html', auto_open = True)   \n",
    "fig.write_html(f'/var/www/html/000/tempestComp.html', auto_open = True)   "
   ]
  },
  {
   "cell_type": "code",
   "execution_count": null,
   "id": "dbb499d2",
   "metadata": {},
   "outputs": [],
   "source": []
  }
 ],
 "metadata": {
  "kernelspec": {
   "display_name": "Python 3 (ipykernel)",
   "language": "python",
   "name": "python3"
  },
  "language_info": {
   "codemirror_mode": {
    "name": "ipython",
    "version": 3
   },
   "file_extension": ".py",
   "mimetype": "text/x-python",
   "name": "python",
   "nbconvert_exporter": "python",
   "pygments_lexer": "ipython3",
   "version": "3.10.9"
  }
 },
 "nbformat": 4,
 "nbformat_minor": 5
}
